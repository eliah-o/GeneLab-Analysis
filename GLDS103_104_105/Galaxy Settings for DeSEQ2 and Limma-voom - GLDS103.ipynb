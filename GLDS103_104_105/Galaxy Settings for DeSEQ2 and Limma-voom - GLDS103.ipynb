{
 "cells": [
  {
   "cell_type": "markdown",
   "metadata": {},
   "source": [
    "# Feature Counts Data from Analysis from NASA GeneLab \n",
    "\n",
    "\n",
    "Contact: Eliah Overbey\n"
   ]
  },
  {
   "cell_type": "markdown",
   "metadata": {},
   "source": [
    "Three differential gene expression methods were performed. This notebook shows which Galaxy settings were used for these methods.\n",
    "\n",
    "1. DESeq2 for normalization and DE gene analysis\n",
    "2. Limma-voom with RLE for normalization (same normalization method as DESeq2)\n",
    "3. Limma-voom with TMM normalization (this is the default Limma-voom normalizer, it's the same normalization method as edgeR)"
   ]
  },
  {
   "cell_type": "markdown",
   "metadata": {},
   "source": [
    "Feature counts from the Genelab Google Drive folder were used for this analysis. \n",
    "\n",
    "They were not modified before being passed into DESeq2, with one exception: There was one line in every feature counts file that contained a read count without an associated GeneID. These lines were removed from all files prior to analysis. This was present across GLDS 103, 104 and 105. Two examples are included below: "
   ]
  },
  {
   "cell_type": "markdown",
   "metadata": {},
   "source": [
    "![title](img/DanglingReadCount_Ex1.png)\n",
    "![title](img/DanglingReadCount_Ex2.png)"
   ]
  },
  {
   "cell_type": "markdown",
   "metadata": {},
   "source": [
    "# 1. DESeq2 "
   ]
  },
  {
   "cell_type": "markdown",
   "metadata": {},
   "source": [
    "![title](img/DESeq2_img1.png)\n",
    "![title](img/DESeq2_img2.png)\n",
    "![title](img/DESeq2_img3.png)"
   ]
  },
  {
   "cell_type": "markdown",
   "metadata": {},
   "source": [
    "# 2. Limma-voom with RLE normalization"
   ]
  },
  {
   "cell_type": "markdown",
   "metadata": {},
   "source": [
    "![title](img/Limma_img1.png)\n",
    "![title](img/Limma_img2.png)\n",
    "![title](img/Limma_img3.png)\n",
    "![title](img/Limma_img4.png)\n",
    "![title](img/Limma_img5.png)\n",
    "![title](img/Limma_img6.png)\n",
    "![title](img/Limma_img7.png)"
   ]
  },
  {
   "cell_type": "markdown",
   "metadata": {
    "collapsed": true
   },
   "source": [
    "# 3. Limma-voom with TMM normalization\n",
    "All the settings are the same as \"2. Limma-voom with RLE normalization\" except for the \"Advanced Options\" settings."
   ]
  },
  {
   "cell_type": "markdown",
   "metadata": {},
   "source": [
    "![title](img/Limma_TMM_img.png)"
   ]
  },
  {
   "cell_type": "code",
   "execution_count": null,
   "metadata": {
    "collapsed": true
   },
   "outputs": [],
   "source": []
  }
 ],
 "metadata": {
  "kernelspec": {
   "display_name": "Python 2",
   "language": "python",
   "name": "python2"
  },
  "language_info": {
   "codemirror_mode": {
    "name": "ipython",
    "version": 2
   },
   "file_extension": ".py",
   "mimetype": "text/x-python",
   "name": "python",
   "nbconvert_exporter": "python",
   "pygments_lexer": "ipython2",
   "version": "2.7.13"
  }
 },
 "nbformat": 4,
 "nbformat_minor": 2
}
