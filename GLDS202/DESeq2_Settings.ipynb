{
 "cells": [
  {
   "cell_type": "markdown",
   "metadata": {},
   "source": [
    "## DESeq2 Settings for GLDS202\n",
    "\n",
    "### Comparisons\n",
    "(7 Day)\n",
    "1. Radiation1 vs Control1\n",
    "2. Unloaded1 vs Control1\n",
    "3. Combination1 vs Control1\n",
    "\n",
    "(1 Month)\n",
    "4. Radiation2 vs Control2\n",
    "5. Unloaded2 vs Control2\n",
    "6. Combination2 vs Control2\n",
    "\n",
    "(4 Month)\n",
    "7. Radiation3 vs Control3\n",
    "8. Unloaded3 vs Control3\n",
    "9. Combination3 vs Control3"
   ]
  },
  {
   "cell_type": "markdown",
   "metadata": {},
   "source": [
    "# Settings: Radiation1 vs Control 1 (7 Day)"
   ]
  },
  {
   "cell_type": "markdown",
   "metadata": {},
   "source": [
    "![title](img/DESeq2_img1.png)\n",
    "![title](img/DESeq2_img2.png)\n",
    "![title](img/DESeq2_img3.png)"
   ]
  },
  {
   "cell_type": "code",
   "execution_count": null,
   "metadata": {
    "collapsed": true
   },
   "outputs": [],
   "source": []
  }
 ],
 "metadata": {
  "kernelspec": {
   "display_name": "Python 2",
   "language": "python",
   "name": "python2"
  },
  "language_info": {
   "codemirror_mode": {
    "name": "ipython",
    "version": 2
   },
   "file_extension": ".py",
   "mimetype": "text/x-python",
   "name": "python",
   "nbconvert_exporter": "python",
   "pygments_lexer": "ipython2",
   "version": "2.7.13"
  }
 },
 "nbformat": 4,
 "nbformat_minor": 2
}
