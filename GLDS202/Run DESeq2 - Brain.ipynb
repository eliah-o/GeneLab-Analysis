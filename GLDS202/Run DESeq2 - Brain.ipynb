{
 "cells": [
  {
   "cell_type": "code",
   "execution_count": 1,
   "metadata": {
    "collapsed": true
   },
   "outputs": [],
   "source": [
    "# Load Unnormalized Read Counts\n",
    "unnormalized_counts = \"../GLDS-202_Unnormalized_Counts.txt\"\n",
    "cts <- as.matrix(read.table(unnormalized_counts, sep=\"\\t\", row.names=\"GeneID\", header=TRUE))"
   ]
  },
  {
   "cell_type": "code",
   "execution_count": 2,
   "metadata": {
    "collapsed": true
   },
   "outputs": [],
   "source": [
    "# Load Annotations\n",
    "annotations = \"../GLDS-202_203/GLDS-202_SampleTable.csv\"\n",
    "coldata <- read.csv(annotations, row.names=1)"
   ]
  },
  {
   "cell_type": "code",
   "execution_count": 3,
   "metadata": {
    "collapsed": true
   },
   "outputs": [],
   "source": [
    "# Retrieve only Retina data\n",
    "coldata = coldata[coldata$Material %in% \"brain\", ]"
   ]
  },
  {
   "cell_type": "code",
   "execution_count": 4,
   "metadata": {},
   "outputs": [
    {
     "data": {
      "text/html": [
       "<table>\n",
       "<thead><tr><th></th><th scope=col>Radiation</th><th scope=col>Unloading</th><th scope=col>Material</th><th scope=col>Time</th></tr></thead>\n",
       "<tbody>\n",
       "\t<tr><th scope=row>CFG2006</th><td>0.4gray </td><td>Loaded  </td><td>brain   </td><td>1month  </td></tr>\n",
       "\t<tr><th scope=row>CFG2007</th><td>0.4gray </td><td>Loaded  </td><td>brain   </td><td>1month  </td></tr>\n",
       "\t<tr><th scope=row>CFG2008</th><td>0.4gray </td><td>Loaded  </td><td>brain   </td><td>1month  </td></tr>\n",
       "\t<tr><th scope=row>CFG2009</th><td>0.4gray </td><td>Loaded  </td><td>brain   </td><td>1month  </td></tr>\n",
       "\t<tr><th scope=row>CFG2010</th><td>0.4gray </td><td>Loaded  </td><td>brain   </td><td>1month  </td></tr>\n",
       "\t<tr><th scope=row>CFG2011</th><td>0.4gray </td><td>Loaded  </td><td>brain   </td><td>1month  </td></tr>\n",
       "\t<tr><th scope=row>CFG2012</th><td>0.4gray </td><td>Unloaded</td><td>brain   </td><td>1month  </td></tr>\n",
       "\t<tr><th scope=row>CFG2013</th><td>0.4gray </td><td>Unloaded</td><td>brain   </td><td>1month  </td></tr>\n",
       "\t<tr><th scope=row>CFG2014</th><td>0.4gray </td><td>Unloaded</td><td>brain   </td><td>1month  </td></tr>\n",
       "\t<tr><th scope=row>CFG2015</th><td>0.4gray </td><td>Unloaded</td><td>brain   </td><td>1month  </td></tr>\n",
       "\t<tr><th scope=row>CFG2016</th><td>0.4gray </td><td>Unloaded</td><td>brain   </td><td>1month  </td></tr>\n",
       "\t<tr><th scope=row>CFG2017</th><td>0.4gray </td><td>Unloaded</td><td>brain   </td><td>1month  </td></tr>\n",
       "\t<tr><th scope=row>CFG2018</th><td>0gray   </td><td>Loaded  </td><td>brain   </td><td>1month  </td></tr>\n",
       "\t<tr><th scope=row>CFG2019</th><td>0gray   </td><td>Loaded  </td><td>brain   </td><td>1month  </td></tr>\n",
       "\t<tr><th scope=row>CFG2020</th><td>0gray   </td><td>Loaded  </td><td>brain   </td><td>1month  </td></tr>\n",
       "\t<tr><th scope=row>CFG2021</th><td>0gray   </td><td>Loaded  </td><td>brain   </td><td>1month  </td></tr>\n",
       "\t<tr><th scope=row>CFG2022</th><td>0gray   </td><td>Loaded  </td><td>brain   </td><td>1month  </td></tr>\n",
       "\t<tr><th scope=row>CFG2023</th><td>0gray   </td><td>Loaded  </td><td>brain   </td><td>1month  </td></tr>\n",
       "\t<tr><th scope=row>CFG2024</th><td>0gray   </td><td>Unloaded</td><td>brain   </td><td>1month  </td></tr>\n",
       "\t<tr><th scope=row>CFG2025</th><td>0gray   </td><td>Unloaded</td><td>brain   </td><td>1month  </td></tr>\n",
       "\t<tr><th scope=row>CFG2026</th><td>0gray   </td><td>Unloaded</td><td>brain   </td><td>4month  </td></tr>\n",
       "\t<tr><th scope=row>CFG2027</th><td>0.4gray </td><td>Loaded  </td><td>brain   </td><td>4month  </td></tr>\n",
       "\t<tr><th scope=row>CFG2028</th><td>0.4gray </td><td>Unloaded</td><td>brain   </td><td>4month  </td></tr>\n",
       "\t<tr><th scope=row>CFG2029</th><td>0.4gray </td><td>Unloaded</td><td>brain   </td><td>4month  </td></tr>\n",
       "\t<tr><th scope=row>CFG2030</th><td>0gray   </td><td>Unloaded</td><td>brain   </td><td>4month  </td></tr>\n",
       "\t<tr><th scope=row>CFG2031</th><td>0.4gray </td><td>Loaded  </td><td>brain   </td><td>4month  </td></tr>\n",
       "\t<tr><th scope=row>CFG2032</th><td>0.4gray </td><td>Loaded  </td><td>brain   </td><td>4month  </td></tr>\n",
       "\t<tr><th scope=row>CFG2033</th><td>0.4gray </td><td>Loaded  </td><td>brain   </td><td>4month  </td></tr>\n",
       "\t<tr><th scope=row>CFG2034</th><td>0gray   </td><td>Loaded  </td><td>brain   </td><td>4month  </td></tr>\n",
       "\t<tr><th scope=row>CFG2035</th><td>0.4gray </td><td>Loaded  </td><td>brain   </td><td>4month  </td></tr>\n",
       "\t<tr><th scope=row>CFG2036</th><td>0gray   </td><td>Loaded  </td><td>brain   </td><td>4month  </td></tr>\n",
       "\t<tr><th scope=row>CFG2037</th><td>0gray   </td><td>Unloaded</td><td>brain   </td><td>4month  </td></tr>\n",
       "\t<tr><th scope=row>CFG2038</th><td>0.4gray </td><td>Unloaded</td><td>brain   </td><td>4month  </td></tr>\n",
       "\t<tr><th scope=row>CFG2039</th><td>0.4gray </td><td>Loaded  </td><td>brain   </td><td>4month  </td></tr>\n",
       "\t<tr><th scope=row>CFG2040</th><td>0gray   </td><td>Unloaded</td><td>brain   </td><td>4month  </td></tr>\n",
       "\t<tr><th scope=row>CFG2041</th><td>0.4gray </td><td>Unloaded</td><td>brain   </td><td>4month  </td></tr>\n",
       "\t<tr><th scope=row>CFG2042</th><td>0gray   </td><td>Unloaded</td><td>brain   </td><td>4month  </td></tr>\n",
       "\t<tr><th scope=row>CFG2043</th><td>0gray   </td><td>Unloaded</td><td>brain   </td><td>4month  </td></tr>\n",
       "\t<tr><th scope=row>CFG2044</th><td>0gray   </td><td>Loaded  </td><td>brain   </td><td>4month  </td></tr>\n",
       "\t<tr><th scope=row>CFG2045</th><td>0gray   </td><td>Loaded  </td><td>brain   </td><td>4month  </td></tr>\n",
       "</tbody>\n",
       "</table>\n"
      ],
      "text/latex": [
       "\\begin{tabular}{r|llll}\n",
       "  & Radiation & Unloading & Material & Time\\\\\n",
       "\\hline\n",
       "\tCFG2006 & 0.4gray  & Loaded   & brain    & 1month  \\\\\n",
       "\tCFG2007 & 0.4gray  & Loaded   & brain    & 1month  \\\\\n",
       "\tCFG2008 & 0.4gray  & Loaded   & brain    & 1month  \\\\\n",
       "\tCFG2009 & 0.4gray  & Loaded   & brain    & 1month  \\\\\n",
       "\tCFG2010 & 0.4gray  & Loaded   & brain    & 1month  \\\\\n",
       "\tCFG2011 & 0.4gray  & Loaded   & brain    & 1month  \\\\\n",
       "\tCFG2012 & 0.4gray  & Unloaded & brain    & 1month  \\\\\n",
       "\tCFG2013 & 0.4gray  & Unloaded & brain    & 1month  \\\\\n",
       "\tCFG2014 & 0.4gray  & Unloaded & brain    & 1month  \\\\\n",
       "\tCFG2015 & 0.4gray  & Unloaded & brain    & 1month  \\\\\n",
       "\tCFG2016 & 0.4gray  & Unloaded & brain    & 1month  \\\\\n",
       "\tCFG2017 & 0.4gray  & Unloaded & brain    & 1month  \\\\\n",
       "\tCFG2018 & 0gray    & Loaded   & brain    & 1month  \\\\\n",
       "\tCFG2019 & 0gray    & Loaded   & brain    & 1month  \\\\\n",
       "\tCFG2020 & 0gray    & Loaded   & brain    & 1month  \\\\\n",
       "\tCFG2021 & 0gray    & Loaded   & brain    & 1month  \\\\\n",
       "\tCFG2022 & 0gray    & Loaded   & brain    & 1month  \\\\\n",
       "\tCFG2023 & 0gray    & Loaded   & brain    & 1month  \\\\\n",
       "\tCFG2024 & 0gray    & Unloaded & brain    & 1month  \\\\\n",
       "\tCFG2025 & 0gray    & Unloaded & brain    & 1month  \\\\\n",
       "\tCFG2026 & 0gray    & Unloaded & brain    & 4month  \\\\\n",
       "\tCFG2027 & 0.4gray  & Loaded   & brain    & 4month  \\\\\n",
       "\tCFG2028 & 0.4gray  & Unloaded & brain    & 4month  \\\\\n",
       "\tCFG2029 & 0.4gray  & Unloaded & brain    & 4month  \\\\\n",
       "\tCFG2030 & 0gray    & Unloaded & brain    & 4month  \\\\\n",
       "\tCFG2031 & 0.4gray  & Loaded   & brain    & 4month  \\\\\n",
       "\tCFG2032 & 0.4gray  & Loaded   & brain    & 4month  \\\\\n",
       "\tCFG2033 & 0.4gray  & Loaded   & brain    & 4month  \\\\\n",
       "\tCFG2034 & 0gray    & Loaded   & brain    & 4month  \\\\\n",
       "\tCFG2035 & 0.4gray  & Loaded   & brain    & 4month  \\\\\n",
       "\tCFG2036 & 0gray    & Loaded   & brain    & 4month  \\\\\n",
       "\tCFG2037 & 0gray    & Unloaded & brain    & 4month  \\\\\n",
       "\tCFG2038 & 0.4gray  & Unloaded & brain    & 4month  \\\\\n",
       "\tCFG2039 & 0.4gray  & Loaded   & brain    & 4month  \\\\\n",
       "\tCFG2040 & 0gray    & Unloaded & brain    & 4month  \\\\\n",
       "\tCFG2041 & 0.4gray  & Unloaded & brain    & 4month  \\\\\n",
       "\tCFG2042 & 0gray    & Unloaded & brain    & 4month  \\\\\n",
       "\tCFG2043 & 0gray    & Unloaded & brain    & 4month  \\\\\n",
       "\tCFG2044 & 0gray    & Loaded   & brain    & 4month  \\\\\n",
       "\tCFG2045 & 0gray    & Loaded   & brain    & 4month  \\\\\n",
       "\\end{tabular}\n"
      ],
      "text/markdown": [
       "\n",
       "| <!--/--> | Radiation | Unloading | Material | Time | \n",
       "|---|---|---|---|---|---|---|---|---|---|---|---|---|---|---|---|---|---|---|---|---|---|---|---|---|---|---|---|---|---|---|---|---|---|---|---|---|---|---|---|\n",
       "| CFG2006 | 0.4gray  | Loaded   | brain    | 1month   | \n",
       "| CFG2007 | 0.4gray  | Loaded   | brain    | 1month   | \n",
       "| CFG2008 | 0.4gray  | Loaded   | brain    | 1month   | \n",
       "| CFG2009 | 0.4gray  | Loaded   | brain    | 1month   | \n",
       "| CFG2010 | 0.4gray  | Loaded   | brain    | 1month   | \n",
       "| CFG2011 | 0.4gray  | Loaded   | brain    | 1month   | \n",
       "| CFG2012 | 0.4gray  | Unloaded | brain    | 1month   | \n",
       "| CFG2013 | 0.4gray  | Unloaded | brain    | 1month   | \n",
       "| CFG2014 | 0.4gray  | Unloaded | brain    | 1month   | \n",
       "| CFG2015 | 0.4gray  | Unloaded | brain    | 1month   | \n",
       "| CFG2016 | 0.4gray  | Unloaded | brain    | 1month   | \n",
       "| CFG2017 | 0.4gray  | Unloaded | brain    | 1month   | \n",
       "| CFG2018 | 0gray    | Loaded   | brain    | 1month   | \n",
       "| CFG2019 | 0gray    | Loaded   | brain    | 1month   | \n",
       "| CFG2020 | 0gray    | Loaded   | brain    | 1month   | \n",
       "| CFG2021 | 0gray    | Loaded   | brain    | 1month   | \n",
       "| CFG2022 | 0gray    | Loaded   | brain    | 1month   | \n",
       "| CFG2023 | 0gray    | Loaded   | brain    | 1month   | \n",
       "| CFG2024 | 0gray    | Unloaded | brain    | 1month   | \n",
       "| CFG2025 | 0gray    | Unloaded | brain    | 1month   | \n",
       "| CFG2026 | 0gray    | Unloaded | brain    | 4month   | \n",
       "| CFG2027 | 0.4gray  | Loaded   | brain    | 4month   | \n",
       "| CFG2028 | 0.4gray  | Unloaded | brain    | 4month   | \n",
       "| CFG2029 | 0.4gray  | Unloaded | brain    | 4month   | \n",
       "| CFG2030 | 0gray    | Unloaded | brain    | 4month   | \n",
       "| CFG2031 | 0.4gray  | Loaded   | brain    | 4month   | \n",
       "| CFG2032 | 0.4gray  | Loaded   | brain    | 4month   | \n",
       "| CFG2033 | 0.4gray  | Loaded   | brain    | 4month   | \n",
       "| CFG2034 | 0gray    | Loaded   | brain    | 4month   | \n",
       "| CFG2035 | 0.4gray  | Loaded   | brain    | 4month   | \n",
       "| CFG2036 | 0gray    | Loaded   | brain    | 4month   | \n",
       "| CFG2037 | 0gray    | Unloaded | brain    | 4month   | \n",
       "| CFG2038 | 0.4gray  | Unloaded | brain    | 4month   | \n",
       "| CFG2039 | 0.4gray  | Loaded   | brain    | 4month   | \n",
       "| CFG2040 | 0gray    | Unloaded | brain    | 4month   | \n",
       "| CFG2041 | 0.4gray  | Unloaded | brain    | 4month   | \n",
       "| CFG2042 | 0gray    | Unloaded | brain    | 4month   | \n",
       "| CFG2043 | 0gray    | Unloaded | brain    | 4month   | \n",
       "| CFG2044 | 0gray    | Loaded   | brain    | 4month   | \n",
       "| CFG2045 | 0gray    | Loaded   | brain    | 4month   | \n",
       "\n",
       "\n"
      ],
      "text/plain": [
       "        Radiation Unloading Material Time  \n",
       "CFG2006 0.4gray   Loaded    brain    1month\n",
       "CFG2007 0.4gray   Loaded    brain    1month\n",
       "CFG2008 0.4gray   Loaded    brain    1month\n",
       "CFG2009 0.4gray   Loaded    brain    1month\n",
       "CFG2010 0.4gray   Loaded    brain    1month\n",
       "CFG2011 0.4gray   Loaded    brain    1month\n",
       "CFG2012 0.4gray   Unloaded  brain    1month\n",
       "CFG2013 0.4gray   Unloaded  brain    1month\n",
       "CFG2014 0.4gray   Unloaded  brain    1month\n",
       "CFG2015 0.4gray   Unloaded  brain    1month\n",
       "CFG2016 0.4gray   Unloaded  brain    1month\n",
       "CFG2017 0.4gray   Unloaded  brain    1month\n",
       "CFG2018 0gray     Loaded    brain    1month\n",
       "CFG2019 0gray     Loaded    brain    1month\n",
       "CFG2020 0gray     Loaded    brain    1month\n",
       "CFG2021 0gray     Loaded    brain    1month\n",
       "CFG2022 0gray     Loaded    brain    1month\n",
       "CFG2023 0gray     Loaded    brain    1month\n",
       "CFG2024 0gray     Unloaded  brain    1month\n",
       "CFG2025 0gray     Unloaded  brain    1month\n",
       "CFG2026 0gray     Unloaded  brain    4month\n",
       "CFG2027 0.4gray   Loaded    brain    4month\n",
       "CFG2028 0.4gray   Unloaded  brain    4month\n",
       "CFG2029 0.4gray   Unloaded  brain    4month\n",
       "CFG2030 0gray     Unloaded  brain    4month\n",
       "CFG2031 0.4gray   Loaded    brain    4month\n",
       "CFG2032 0.4gray   Loaded    brain    4month\n",
       "CFG2033 0.4gray   Loaded    brain    4month\n",
       "CFG2034 0gray     Loaded    brain    4month\n",
       "CFG2035 0.4gray   Loaded    brain    4month\n",
       "CFG2036 0gray     Loaded    brain    4month\n",
       "CFG2037 0gray     Unloaded  brain    4month\n",
       "CFG2038 0.4gray   Unloaded  brain    4month\n",
       "CFG2039 0.4gray   Loaded    brain    4month\n",
       "CFG2040 0gray     Unloaded  brain    4month\n",
       "CFG2041 0.4gray   Unloaded  brain    4month\n",
       "CFG2042 0gray     Unloaded  brain    4month\n",
       "CFG2043 0gray     Unloaded  brain    4month\n",
       "CFG2044 0gray     Loaded    brain    4month\n",
       "CFG2045 0gray     Loaded    brain    4month"
      ]
     },
     "metadata": {},
     "output_type": "display_data"
    }
   ],
   "source": [
    "coldata"
   ]
  },
  {
   "cell_type": "code",
   "execution_count": 5,
   "metadata": {
    "collapsed": true
   },
   "outputs": [],
   "source": [
    "# Brain Counts Only\n",
    "brain_cts = cts[ , (colnames(cts) %in% c(rownames(coldata)))]\n",
    "\n",
    "# DESeq2 requires integers\n",
    "brain_cts = round(brain_cts)"
   ]
  },
  {
   "cell_type": "code",
   "execution_count": 6,
   "metadata": {},
   "outputs": [
    {
     "data": {
      "text/html": [
       "<table>\n",
       "<thead><tr><th></th><th scope=col>CFG2006</th><th scope=col>CFG2007</th><th scope=col>CFG2008</th><th scope=col>CFG2009</th><th scope=col>CFG2010</th><th scope=col>CFG2011</th><th scope=col>CFG2012</th><th scope=col>CFG2013</th><th scope=col>CFG2014</th><th scope=col>CFG2015</th><th scope=col>⋯</th><th scope=col>CFG2036</th><th scope=col>CFG2037</th><th scope=col>CFG2038</th><th scope=col>CFG2039</th><th scope=col>CFG2040</th><th scope=col>CFG2041</th><th scope=col>CFG2042</th><th scope=col>CFG2043</th><th scope=col>CFG2044</th><th scope=col>CFG2045</th></tr></thead>\n",
       "<tbody>\n",
       "\t<tr><th scope=row>ENSMUSG00000000001.4</th><td>276</td><td>277</td><td>295</td><td>267</td><td>292</td><td>325</td><td>377</td><td>274</td><td>303</td><td>258</td><td>⋯  </td><td>249</td><td>263</td><td>246</td><td>303</td><td>209</td><td>249</td><td>355</td><td>226</td><td>477</td><td>284</td></tr>\n",
       "\t<tr><th scope=row>ENSMUSG00000000003.15</th><td>  0</td><td>  0</td><td>  0</td><td>  0</td><td>  0</td><td>  0</td><td>  0</td><td>  0</td><td>  0</td><td>  0</td><td>⋯  </td><td>  0</td><td>  0</td><td>  0</td><td>  0</td><td>  0</td><td>  0</td><td>  0</td><td>  0</td><td>  0</td><td>  0</td></tr>\n",
       "\t<tr><th scope=row>ENSMUSG00000000028.15</th><td>  9</td><td> 17</td><td> 11</td><td> 13</td><td>  8</td><td> 13</td><td> 15</td><td> 15</td><td> 18</td><td>  7</td><td>⋯  </td><td> 10</td><td> 25</td><td> 14</td><td> 14</td><td> 10</td><td> 19</td><td> 24</td><td> 18</td><td> 36</td><td> 16</td></tr>\n",
       "\t<tr><th scope=row>ENSMUSG00000000031.16</th><td> 19</td><td>  4</td><td> 24</td><td>  2</td><td>  1</td><td>  8</td><td> 39</td><td>  2</td><td> 11</td><td>  1</td><td>⋯  </td><td>  8</td><td>  8</td><td>  1</td><td> 13</td><td> 10</td><td> 13</td><td>  0</td><td> 22</td><td>  6</td><td> 12</td></tr>\n",
       "\t<tr><th scope=row>ENSMUSG00000000037.16</th><td> 15</td><td> 12</td><td> 15</td><td>  7</td><td> 18</td><td> 11</td><td> 34</td><td> 26</td><td> 14</td><td> 13</td><td>⋯  </td><td>  6</td><td>  3</td><td>  5</td><td>  4</td><td>  1</td><td> 29</td><td>  4</td><td>  4</td><td> 16</td><td>  6</td></tr>\n",
       "\t<tr><th scope=row>ENSMUSG00000000049.11</th><td>  0</td><td>  0</td><td>  5</td><td>  1</td><td>  1</td><td>  3</td><td>  3</td><td>  2</td><td>  1</td><td>  0</td><td>⋯  </td><td>  3</td><td>  2</td><td>  0</td><td>  0</td><td>  2</td><td>  0</td><td>  1</td><td>  0</td><td>  2</td><td>  1</td></tr>\n",
       "</tbody>\n",
       "</table>\n"
      ],
      "text/latex": [
       "\\begin{tabular}{r|llllllllllllllllllllllllllllllllllllllll}\n",
       "  & CFG2006 & CFG2007 & CFG2008 & CFG2009 & CFG2010 & CFG2011 & CFG2012 & CFG2013 & CFG2014 & CFG2015 & ⋯ & CFG2036 & CFG2037 & CFG2038 & CFG2039 & CFG2040 & CFG2041 & CFG2042 & CFG2043 & CFG2044 & CFG2045\\\\\n",
       "\\hline\n",
       "\tENSMUSG00000000001.4 & 276 & 277 & 295 & 267 & 292 & 325 & 377 & 274 & 303 & 258 & ⋯   & 249 & 263 & 246 & 303 & 209 & 249 & 355 & 226 & 477 & 284\\\\\n",
       "\tENSMUSG00000000003.15 &   0 &   0 &   0 &   0 &   0 &   0 &   0 &   0 &   0 &   0 & ⋯   &   0 &   0 &   0 &   0 &   0 &   0 &   0 &   0 &   0 &   0\\\\\n",
       "\tENSMUSG00000000028.15 &   9 &  17 &  11 &  13 &   8 &  13 &  15 &  15 &  18 &   7 & ⋯   &  10 &  25 &  14 &  14 &  10 &  19 &  24 &  18 &  36 &  16\\\\\n",
       "\tENSMUSG00000000031.16 &  19 &   4 &  24 &   2 &   1 &   8 &  39 &   2 &  11 &   1 & ⋯   &   8 &   8 &   1 &  13 &  10 &  13 &   0 &  22 &   6 &  12\\\\\n",
       "\tENSMUSG00000000037.16 &  15 &  12 &  15 &   7 &  18 &  11 &  34 &  26 &  14 &  13 & ⋯   &   6 &   3 &   5 &   4 &   1 &  29 &   4 &   4 &  16 &   6\\\\\n",
       "\tENSMUSG00000000049.11 &   0 &   0 &   5 &   1 &   1 &   3 &   3 &   2 &   1 &   0 & ⋯   &   3 &   2 &   0 &   0 &   2 &   0 &   1 &   0 &   2 &   1\\\\\n",
       "\\end{tabular}\n"
      ],
      "text/markdown": [
       "\n",
       "| <!--/--> | CFG2006 | CFG2007 | CFG2008 | CFG2009 | CFG2010 | CFG2011 | CFG2012 | CFG2013 | CFG2014 | CFG2015 | ⋯ | CFG2036 | CFG2037 | CFG2038 | CFG2039 | CFG2040 | CFG2041 | CFG2042 | CFG2043 | CFG2044 | CFG2045 | \n",
       "|---|---|---|---|---|---|\n",
       "| ENSMUSG00000000001.4 | 276 | 277 | 295 | 267 | 292 | 325 | 377 | 274 | 303 | 258 | ⋯   | 249 | 263 | 246 | 303 | 209 | 249 | 355 | 226 | 477 | 284 | \n",
       "| ENSMUSG00000000003.15 |   0 |   0 |   0 |   0 |   0 |   0 |   0 |   0 |   0 |   0 | ⋯   |   0 |   0 |   0 |   0 |   0 |   0 |   0 |   0 |   0 |   0 | \n",
       "| ENSMUSG00000000028.15 |   9 |  17 |  11 |  13 |   8 |  13 |  15 |  15 |  18 |   7 | ⋯   |  10 |  25 |  14 |  14 |  10 |  19 |  24 |  18 |  36 |  16 | \n",
       "| ENSMUSG00000000031.16 |  19 |   4 |  24 |   2 |   1 |   8 |  39 |   2 |  11 |   1 | ⋯   |   8 |   8 |   1 |  13 |  10 |  13 |   0 |  22 |   6 |  12 | \n",
       "| ENSMUSG00000000037.16 |  15 |  12 |  15 |   7 |  18 |  11 |  34 |  26 |  14 |  13 | ⋯   |   6 |   3 |   5 |   4 |   1 |  29 |   4 |   4 |  16 |   6 | \n",
       "| ENSMUSG00000000049.11 |   0 |   0 |   5 |   1 |   1 |   3 |   3 |   2 |   1 |   0 | ⋯   |   3 |   2 |   0 |   0 |   2 |   0 |   1 |   0 |   2 |   1 | \n",
       "\n",
       "\n"
      ],
      "text/plain": [
       "                      CFG2006 CFG2007 CFG2008 CFG2009 CFG2010 CFG2011 CFG2012\n",
       "ENSMUSG00000000001.4  276     277     295     267     292     325     377    \n",
       "ENSMUSG00000000003.15   0       0       0       0       0       0       0    \n",
       "ENSMUSG00000000028.15   9      17      11      13       8      13      15    \n",
       "ENSMUSG00000000031.16  19       4      24       2       1       8      39    \n",
       "ENSMUSG00000000037.16  15      12      15       7      18      11      34    \n",
       "ENSMUSG00000000049.11   0       0       5       1       1       3       3    \n",
       "                      CFG2013 CFG2014 CFG2015 ⋯ CFG2036 CFG2037 CFG2038 CFG2039\n",
       "ENSMUSG00000000001.4  274     303     258     ⋯ 249     263     246     303    \n",
       "ENSMUSG00000000003.15   0       0       0     ⋯   0       0       0       0    \n",
       "ENSMUSG00000000028.15  15      18       7     ⋯  10      25      14      14    \n",
       "ENSMUSG00000000031.16   2      11       1     ⋯   8       8       1      13    \n",
       "ENSMUSG00000000037.16  26      14      13     ⋯   6       3       5       4    \n",
       "ENSMUSG00000000049.11   2       1       0     ⋯   3       2       0       0    \n",
       "                      CFG2040 CFG2041 CFG2042 CFG2043 CFG2044 CFG2045\n",
       "ENSMUSG00000000001.4  209     249     355     226     477     284    \n",
       "ENSMUSG00000000003.15   0       0       0       0       0       0    \n",
       "ENSMUSG00000000028.15  10      19      24      18      36      16    \n",
       "ENSMUSG00000000031.16  10      13       0      22       6      12    \n",
       "ENSMUSG00000000037.16   1      29       4       4      16       6    \n",
       "ENSMUSG00000000049.11   2       0       1       0       2       1    "
      ]
     },
     "metadata": {},
     "output_type": "display_data"
    }
   ],
   "source": [
    "head(brain_cts)"
   ]
  },
  {
   "cell_type": "code",
   "execution_count": 7,
   "metadata": {},
   "outputs": [
    {
     "data": {
      "text/html": [
       "TRUE"
      ],
      "text/latex": [
       "TRUE"
      ],
      "text/markdown": [
       "TRUE"
      ],
      "text/plain": [
       "[1] TRUE"
      ]
     },
     "metadata": {},
     "output_type": "display_data"
    }
   ],
   "source": [
    "# Confirm that coldata and retina counts are ordered the same\n",
    "all(rownames(coldata) == colnames(brain_cts))"
   ]
  },
  {
   "cell_type": "code",
   "execution_count": 8,
   "metadata": {
    "collapsed": true
   },
   "outputs": [],
   "source": [
    "##### Filter colnames for all comparisons #####\n",
    "\n",
    "### Time = 1 Month ###\n",
    "timepoint = \"1month\"\n",
    "\n",
    "# Condition = Radiation and Control\n",
    "brain_1month_radiation_colnames =  subset(coldata, \n",
    "                                        (Time == timepoint & Radiation == \"0.4gray\" & Unloading == \"Loaded\")\n",
    "                                        | (Time == timepoint & Radiation == \"0gray\" & Unloading == \"Loaded\"))\n",
    "\n",
    "# Condition = Unloaded and Control\n",
    "brain_1month_unloaded_colnames =  subset(coldata, \n",
    "                                        (Time == timepoint & Radiation == \"0gray\" & Unloading == \"Unloaded\")\n",
    "                                        | (Time == timepoint & Radiation == \"0gray\" & Unloading == \"Loaded\"))\n",
    "\n",
    "# Condition = Combination and Control\n",
    "brain_1month_combination_colnames =  subset(coldata,\n",
    "                                            (Time == timepoint & Radiation == \"0.4gray\" & Unloading == \"Unloaded\")\n",
    "                                            | (Time == timepoint & Radiation == \"0gray\" & Unloading == \"Loaded\"))\n",
    "\n",
    "\n",
    "### Time = 4 Month ###\n",
    "timepoint = \"4month\"\n",
    "\n",
    "# Condition = Radiation and Control\n",
    "brain_4month_radiation_colnames =  subset(coldata, \n",
    "                                        (Time == timepoint & Radiation == \"0.4gray\" & Unloading == \"Loaded\")\n",
    "                                        | (Time == timepoint & Radiation == \"0gray\" & Unloading == \"Loaded\"))\n",
    "\n",
    "# Condition = Unloaded and Control\n",
    "brain_4month_unloaded_colnames =  subset(coldata, \n",
    "                                        (Time == timepoint & Radiation == \"0gray\" & Unloading == \"Unloaded\")\n",
    "                                        | (Time == timepoint & Radiation == \"0gray\" & Unloading == \"Loaded\"))\n",
    "\n",
    "# Condition = Combination and Control\n",
    "brain_4month_combination_colnames =  subset(coldata,\n",
    "                                            (Time == timepoint & Radiation == \"0.4gray\" & Unloading == \"Unloaded\")\n",
    "                                            | (Time == timepoint & Radiation == \"0gray\" & Unloading == \"Loaded\"))"
   ]
  },
  {
   "cell_type": "code",
   "execution_count": 16,
   "metadata": {
    "collapsed": true
   },
   "outputs": [],
   "source": [
    "##### Filter counts for all comparisons #####\n",
    "\n",
    "brain_1month_radiation_cts = brain_cts[ , (colnames(brain_cts) %in% c(rownames(brain_1month_radiation_colnames)))]\n",
    "brain_1month_unloaded_cts = brain_cts[ , (colnames(brain_cts) %in% c(rownames(brain_1month_unloaded_colnames)))]\n",
    "brain_1month_combination_cts = brain_cts[ , (colnames(brain_cts) %in% c(rownames(brain_1month_combination_colnames)))]\n",
    "\n",
    "brain_4month_radiation_cts = brain_cts[ , (colnames(brain_cts) %in% c(rownames(brain_4month_radiation_colnames)))]\n",
    "brain_4month_unloaded_cts = brain_cts[ , (colnames(brain_cts) %in% c(rownames(brain_4month_unloaded_colnames)))]\n",
    "brain_4month_combination_cts = brain_cts[ , (colnames(brain_cts) %in% c(rownames(brain_4month_combination_colnames)))]"
   ]
  },
  {
   "cell_type": "code",
   "execution_count": 17,
   "metadata": {},
   "outputs": [
    {
     "data": {
      "text/html": [
       "TRUE"
      ],
      "text/latex": [
       "TRUE"
      ],
      "text/markdown": [
       "TRUE"
      ],
      "text/plain": [
       "[1] TRUE"
      ]
     },
     "metadata": {},
     "output_type": "display_data"
    },
    {
     "data": {
      "text/html": [
       "TRUE"
      ],
      "text/latex": [
       "TRUE"
      ],
      "text/markdown": [
       "TRUE"
      ],
      "text/plain": [
       "[1] TRUE"
      ]
     },
     "metadata": {},
     "output_type": "display_data"
    },
    {
     "data": {
      "text/html": [
       "TRUE"
      ],
      "text/latex": [
       "TRUE"
      ],
      "text/markdown": [
       "TRUE"
      ],
      "text/plain": [
       "[1] TRUE"
      ]
     },
     "metadata": {},
     "output_type": "display_data"
    },
    {
     "data": {
      "text/html": [
       "TRUE"
      ],
      "text/latex": [
       "TRUE"
      ],
      "text/markdown": [
       "TRUE"
      ],
      "text/plain": [
       "[1] TRUE"
      ]
     },
     "metadata": {},
     "output_type": "display_data"
    },
    {
     "data": {
      "text/html": [
       "TRUE"
      ],
      "text/latex": [
       "TRUE"
      ],
      "text/markdown": [
       "TRUE"
      ],
      "text/plain": [
       "[1] TRUE"
      ]
     },
     "metadata": {},
     "output_type": "display_data"
    },
    {
     "data": {
      "text/html": [
       "TRUE"
      ],
      "text/latex": [
       "TRUE"
      ],
      "text/markdown": [
       "TRUE"
      ],
      "text/plain": [
       "[1] TRUE"
      ]
     },
     "metadata": {},
     "output_type": "display_data"
    }
   ],
   "source": [
    "# Verify that annotations and counts are in the same order (DESeq2 requirement)\n",
    "\n",
    "# 1month timepoint\n",
    "all(rownames(brain_1month_radiation_colnames) == colnames(brain_1month_radiation_cts))\n",
    "all(rownames(brain_1month_unloaded_colnames) == colnames(brain_1month_unloaded_cts))\n",
    "all(rownames(brain_1month_combination_colnames) == colnames(brain_1month_combination_cts))\n",
    "\n",
    "# 1month timepoint\n",
    "all(rownames(brain_4month_radiation_colnames) == colnames(brain_4month_radiation_cts))\n",
    "all(rownames(brain_4month_unloaded_colnames) == colnames(brain_4month_unloaded_cts))\n",
    "all(rownames(brain_4month_combination_colnames) == colnames(brain_4month_combination_cts))"
   ]
  },
  {
   "cell_type": "code",
   "execution_count": 20,
   "metadata": {
    "collapsed": true
   },
   "outputs": [],
   "source": [
    "run_DESeq2 <- function(counts, labels, comparison, timepoint)\n",
    "{    \n",
    "    # Organize data into DESeq2 compatible object\n",
    "    if (comparison == \"radiation\" || comparison == \"combination\")\n",
    "    {\n",
    "        dds <- DESeqDataSetFromMatrix(countData = counts,\n",
    "                                  colData = labels,\n",
    "                                  design = ~ Radiation)\n",
    "    }\n",
    "    else if (comparison == \"unloaded\")\n",
    "    {\n",
    "        dds <- DESeqDataSetFromMatrix(countData = counts,\n",
    "                                  colData = labels,\n",
    "                                  design = ~ Unloading)            \n",
    "    }\n",
    "    else\n",
    "    {\n",
    "        print (\"Unrecognized Comparison Argument.\")\n",
    "        return ()\n",
    "    }\n",
    "    \n",
    "    # Prefilter to speed up computation and reduce size of dds\n",
    "    keep <- rowSums(counts(dds)) >= 10\n",
    "    dds <- dds[keep,]\n",
    "    \n",
    "    # Run DESeq2\n",
    "    dds <- DESeq(dds)\n",
    "    \n",
    "    # Save Results for Future Analysis\n",
    "    save_name = paste(\"../R_objects/\", \"brain_\", timepoint, \"_\", comparison, \"Vcontrol_dds.RData\", sep=\"\")\n",
    "    save(dds, file=save_name)\n",
    "    \n",
    "    # Return Results for Histogram Plotting\n",
    "    res <- results(dds)\n",
    "    return (res)\n",
    "}"
   ]
  },
  {
   "cell_type": "code",
   "execution_count": 21,
   "metadata": {},
   "outputs": [
    {
     "name": "stderr",
     "output_type": "stream",
     "text": [
      "converting counts to integer mode\n",
      "estimating size factors\n",
      "estimating dispersions\n",
      "gene-wise dispersion estimates\n",
      "mean-dispersion relationship\n",
      "final dispersion estimates\n",
      "fitting model and testing\n",
      "converting counts to integer mode\n",
      "estimating size factors\n",
      "estimating dispersions\n",
      "gene-wise dispersion estimates\n",
      "mean-dispersion relationship\n",
      "final dispersion estimates\n",
      "fitting model and testing\n",
      "converting counts to integer mode\n",
      "estimating size factors\n",
      "estimating dispersions\n",
      "gene-wise dispersion estimates\n",
      "mean-dispersion relationship\n",
      "final dispersion estimates\n",
      "fitting model and testing\n",
      "converting counts to integer mode\n",
      "estimating size factors\n",
      "estimating dispersions\n",
      "gene-wise dispersion estimates\n",
      "mean-dispersion relationship\n",
      "final dispersion estimates\n",
      "fitting model and testing\n",
      "converting counts to integer mode\n",
      "estimating size factors\n",
      "estimating dispersions\n",
      "gene-wise dispersion estimates\n",
      "mean-dispersion relationship\n",
      "final dispersion estimates\n",
      "fitting model and testing\n",
      "converting counts to integer mode\n",
      "estimating size factors\n",
      "estimating dispersions\n",
      "gene-wise dispersion estimates\n",
      "mean-dispersion relationship\n",
      "final dispersion estimates\n",
      "fitting model and testing\n"
     ]
    }
   ],
   "source": [
    "library(\"DESeq2\")\n",
    "\n",
    "res_1month_radiation = run_DESeq2(brain_1month_radiation_cts, brain_1month_radiation_colnames, \"radiation\", \"1month\")\n",
    "res_1month_unloaded = run_DESeq2(brain_1month_unloaded_cts, brain_1month_unloaded_colnames, \"unloaded\", \"1month\")\n",
    "res_1month_combination = run_DESeq2(brain_1month_combination_cts, brain_1month_combination_colnames, \"combination\", \"1month\")\n",
    "\n",
    "res_4month_radiation = run_DESeq2(brain_4month_radiation_cts, brain_4month_radiation_colnames, \"radiation\", \"4month\")\n",
    "res_4month_unloaded = run_DESeq2(brain_4month_unloaded_cts, brain_4month_unloaded_colnames, \"unloaded\", \"4month\")\n",
    "res_4month_combination = run_DESeq2(brain_4month_combination_cts, brain_4month_combination_colnames, \"combination\", \"4month\")"
   ]
  },
  {
   "cell_type": "code",
   "execution_count": 35,
   "metadata": {},
   "outputs": [
    {
     "data": {
      "image/png": "[encoded data removed]",
      "text/plain": [
       "Plot with title “Combination vs Control”"
      ]
     },
     "metadata": {},
     "output_type": "display_data"
    }
   ],
   "source": [
    "# Plot P-value Distributions for Each Comparison\n",
    "par(mfrow=c(2,3))\n",
    "\n",
    "hist(res_1month_radiation$pvalue, main=\"Radiation vs Control\", xlab=\"P-value\", col=\"#1f77b4\")\n",
    "hist(res_1month_unloaded$pvalue, main=\"Unloaded vs Control\", xlab=\"P-value\", col=\"#1f77b4\")\n",
    "hist(res_1month_combination$pvalue, main=\"Combination vs Control\", xlab=\"P-value\", col=\"#1f77b4\")\n",
    "\n",
    "hist(res_4month_radiation$pvalue, main=\"Radiation vs Control\", xlab=\"P-value\", col=\"#1f77b4\")\n",
    "hist(res_4month_unloaded$pvalue, main=\"Unloaded vs Control\", xlab=\"P-value\", col=\"#1f77b4\")\n",
    "hist(res_4month_combination$pvalue, main=\"Combination vs Control\", xlab=\"P-value\", col=\"#1f77b4\")\n",
    "\n",
    "mtext(\"Timepoint: 1-Month\", side = 3, line = -1.5, outer = TRUE)\n",
    "mtext(\"Timepoint: 4-Month\", side = 3, line = -27, outer = TRUE)\n"
   ]
  },
  {
   "cell_type": "code",
   "execution_count": null,
   "metadata": {
    "collapsed": true
   },
   "outputs": [],
   "source": []
  }
 ],
 "metadata": {
  "kernelspec": {
   "display_name": "R",
   "language": "R",
   "name": "ir"
  },
  "language_info": {
   "codemirror_mode": "r",
   "file_extension": ".r",
   "mimetype": "text/x-r-source",
   "name": "R",
   "pygments_lexer": "r",
   "version": "3.5.1"
  }
 },
 "nbformat": 4,
 "nbformat_minor": 2
}
