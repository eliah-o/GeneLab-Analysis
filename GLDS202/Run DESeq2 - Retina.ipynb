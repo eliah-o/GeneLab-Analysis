{
 "cells": [
  {
   "cell_type": "markdown",
   "metadata": {},
   "source": [
    "# This notebook does three things: \n",
    "1) Runs DESeq2 on the nine comparisons of interest: \n",
    "\n",
    "```\n",
    "- 7 Day, Radiation vs Control\n",
    "- 7 Day, Unloaded vs Control\n",
    "- 7 Day, Combination vs Control\n",
    "- 1 Month, Radiation vs Control\n",
    "- 1 Month, Unloaded vs Control\n",
    "- 1 Month, Combination vs Control\n",
    "- 4 Month, Radiation vs Control\n",
    "- 4 Month, Unloaded vs Control\n",
    "- 4 Month, Combination vs Control\n",
    "```\n",
    "\n",
    "2)  Saves the dds objects from DESeq2\n",
    "\n",
    "3)  Plots the p-value distributions"
   ]
  },
  {
   "cell_type": "markdown",
   "metadata": {},
   "source": [
    "### Data Analysis Pipeline Adapted from: http://bioconductor.org/packages/devel/bioc/vignettes/DESeq2/inst/doc/DESeq2.html#countmat\n",
    "\n",
    "### Overview of P-Value Distributions: http://varianceexplained.org/statistics/interpreting-pvalue-histogram/\n"
   ]
  },
  {
   "cell_type": "code",
   "execution_count": 1,
   "metadata": {
    "collapsed": true
   },
   "outputs": [],
   "source": [
    "# Load Unnormalized Read Counts\n",
    "unnormalized_counts = \"../GLDS-202_Unnormalized_Counts.txt\"\n",
    "cts <- as.matrix(read.table(unnormalized_counts, sep=\"\\t\", row.names=\"GeneID\", header=TRUE))"
   ]
  },
  {
   "cell_type": "code",
   "execution_count": 2,
   "metadata": {},
   "outputs": [
    {
     "data": {
      "text/html": [
       "<table>\n",
       "<thead><tr><th></th><th scope=col>CFG2006</th><th scope=col>CFG2007</th><th scope=col>CFG2008</th><th scope=col>CFG2009</th><th scope=col>CFG2010</th><th scope=col>CFG2011</th><th scope=col>CFG2012</th><th scope=col>CFG2013</th><th scope=col>CFG2014</th><th scope=col>CFG2015</th><th scope=col>⋯</th><th scope=col>CFG2095</th><th scope=col>CFG2096</th><th scope=col>CFG2097</th><th scope=col>CFG2098</th><th scope=col>CFG2099</th><th scope=col>CFG2100</th><th scope=col>CFG2101</th><th scope=col>CFG2102</th><th scope=col>CFG2103</th><th scope=col>CFG2104</th></tr></thead>\n",
       "<tbody>\n",
       "\t<tr><th scope=row>ENSMUSG00000000001.4</th><td>276   </td><td>277   </td><td>295   </td><td>267   </td><td>292   </td><td>325   </td><td>377   </td><td>274   </td><td>303   </td><td>258   </td><td>⋯     </td><td>287.00</td><td>408   </td><td>300   </td><td>265   </td><td>340   </td><td>229   </td><td>331.00</td><td>360   </td><td>417   </td><td>269   </td></tr>\n",
       "\t<tr><th scope=row>ENSMUSG00000000003.15</th><td>  0   </td><td>  0   </td><td>  0   </td><td>  0   </td><td>  0   </td><td>  0   </td><td>  0   </td><td>  0   </td><td>  0   </td><td>  0   </td><td>⋯     </td><td>  0.00</td><td>  0   </td><td>  0   </td><td>  0   </td><td>  0   </td><td>  0   </td><td>  0.00</td><td>  0   </td><td>  0   </td><td>  0   </td></tr>\n",
       "\t<tr><th scope=row>ENSMUSG00000000028.15</th><td>  9   </td><td> 17   </td><td> 11   </td><td> 13   </td><td>  8   </td><td> 13   </td><td> 15   </td><td> 15   </td><td> 18   </td><td>  7   </td><td>⋯     </td><td> 33.18</td><td> 42   </td><td> 39   </td><td> 35   </td><td> 35   </td><td> 22   </td><td> 57.07</td><td> 34   </td><td> 68   </td><td> 49   </td></tr>\n",
       "\t<tr><th scope=row>ENSMUSG00000000031.16</th><td> 19   </td><td>  4   </td><td> 24   </td><td>  2   </td><td>  1   </td><td>  8   </td><td> 39   </td><td>  2   </td><td> 11   </td><td>  1   </td><td>⋯     </td><td>  5.00</td><td>  2   </td><td>  2   </td><td>  1   </td><td>  3   </td><td>  6   </td><td>  4.00</td><td>436   </td><td>  0   </td><td>  0   </td></tr>\n",
       "\t<tr><th scope=row>ENSMUSG00000000037.16</th><td> 15   </td><td> 12   </td><td> 15   </td><td>  7   </td><td> 18   </td><td> 11   </td><td> 34   </td><td> 26   </td><td> 14   </td><td> 13   </td><td>⋯     </td><td> 25.00</td><td> 39   </td><td> 18   </td><td> 41   </td><td> 36   </td><td> 21   </td><td> 28.00</td><td> 33   </td><td> 35   </td><td> 46   </td></tr>\n",
       "\t<tr><th scope=row>ENSMUSG00000000049.11</th><td>  0   </td><td>  0   </td><td>  5   </td><td>  1   </td><td>  1   </td><td>  3   </td><td>  3   </td><td>  2   </td><td>  1   </td><td>  0   </td><td>⋯     </td><td>  2.00</td><td>  1   </td><td>  0   </td><td>  5   </td><td>  0   </td><td>  0   </td><td>  1.00</td><td>  3   </td><td>  0   </td><td>  0   </td></tr>\n",
       "</tbody>\n",
       "</table>\n"
      ],
      "text/latex": [
       "\\begin{tabular}{r|lllllllllllllllllllllllllllllllllllllllllllllllllllllllllllllllllllllllllllllllllllllllllllllllllll}\n",
       "  & CFG2006 & CFG2007 & CFG2008 & CFG2009 & CFG2010 & CFG2011 & CFG2012 & CFG2013 & CFG2014 & CFG2015 & ⋯ & CFG2095 & CFG2096 & CFG2097 & CFG2098 & CFG2099 & CFG2100 & CFG2101 & CFG2102 & CFG2103 & CFG2104\\\\\n",
       "\\hline\n",
       "\tENSMUSG00000000001.4 & 276    & 277    & 295    & 267    & 292    & 325    & 377    & 274    & 303    & 258    & ⋯      & 287.00 & 408    & 300    & 265    & 340    & 229    & 331.00 & 360    & 417    & 269   \\\\\n",
       "\tENSMUSG00000000003.15 &   0    &   0    &   0    &   0    &   0    &   0    &   0    &   0    &   0    &   0    & ⋯      &   0.00 &   0    &   0    &   0    &   0    &   0    &   0.00 &   0    &   0    &   0   \\\\\n",
       "\tENSMUSG00000000028.15 &   9    &  17    &  11    &  13    &   8    &  13    &  15    &  15    &  18    &   7    & ⋯      &  33.18 &  42    &  39    &  35    &  35    &  22    &  57.07 &  34    &  68    &  49   \\\\\n",
       "\tENSMUSG00000000031.16 &  19    &   4    &  24    &   2    &   1    &   8    &  39    &   2    &  11    &   1    & ⋯      &   5.00 &   2    &   2    &   1    &   3    &   6    &   4.00 & 436    &   0    &   0   \\\\\n",
       "\tENSMUSG00000000037.16 &  15    &  12    &  15    &   7    &  18    &  11    &  34    &  26    &  14    &  13    & ⋯      &  25.00 &  39    &  18    &  41    &  36    &  21    &  28.00 &  33    &  35    &  46   \\\\\n",
       "\tENSMUSG00000000049.11 &   0    &   0    &   5    &   1    &   1    &   3    &   3    &   2    &   1    &   0    & ⋯      &   2.00 &   1    &   0    &   5    &   0    &   0    &   1.00 &   3    &   0    &   0   \\\\\n",
       "\\end{tabular}\n"
      ],
      "text/markdown": [
       "\n",
       "| <!--/--> | CFG2006 | CFG2007 | CFG2008 | CFG2009 | CFG2010 | CFG2011 | CFG2012 | CFG2013 | CFG2014 | CFG2015 | ⋯ | CFG2095 | CFG2096 | CFG2097 | CFG2098 | CFG2099 | CFG2100 | CFG2101 | CFG2102 | CFG2103 | CFG2104 | \n",
       "|---|---|---|---|---|---|\n",
       "| ENSMUSG00000000001.4 | 276    | 277    | 295    | 267    | 292    | 325    | 377    | 274    | 303    | 258    | ⋯      | 287.00 | 408    | 300    | 265    | 340    | 229    | 331.00 | 360    | 417    | 269    | \n",
       "| ENSMUSG00000000003.15 |   0    |   0    |   0    |   0    |   0    |   0    |   0    |   0    |   0    |   0    | ⋯      |   0.00 |   0    |   0    |   0    |   0    |   0    |   0.00 |   0    |   0    |   0    | \n",
       "| ENSMUSG00000000028.15 |   9    |  17    |  11    |  13    |   8    |  13    |  15    |  15    |  18    |   7    | ⋯      |  33.18 |  42    |  39    |  35    |  35    |  22    |  57.07 |  34    |  68    |  49    | \n",
       "| ENSMUSG00000000031.16 |  19    |   4    |  24    |   2    |   1    |   8    |  39    |   2    |  11    |   1    | ⋯      |   5.00 |   2    |   2    |   1    |   3    |   6    |   4.00 | 436    |   0    |   0    | \n",
       "| ENSMUSG00000000037.16 |  15    |  12    |  15    |   7    |  18    |  11    |  34    |  26    |  14    |  13    | ⋯      |  25.00 |  39    |  18    |  41    |  36    |  21    |  28.00 |  33    |  35    |  46    | \n",
       "| ENSMUSG00000000049.11 |   0    |   0    |   5    |   1    |   1    |   3    |   3    |   2    |   1    |   0    | ⋯      |   2.00 |   1    |   0    |   5    |   0    |   0    |   1.00 |   3    |   0    |   0    | \n",
       "\n",
       "\n"
      ],
      "text/plain": [
       "                      CFG2006 CFG2007 CFG2008 CFG2009 CFG2010 CFG2011 CFG2012\n",
       "ENSMUSG00000000001.4  276     277     295     267     292     325     377    \n",
       "ENSMUSG00000000003.15   0       0       0       0       0       0       0    \n",
       "ENSMUSG00000000028.15   9      17      11      13       8      13      15    \n",
       "ENSMUSG00000000031.16  19       4      24       2       1       8      39    \n",
       "ENSMUSG00000000037.16  15      12      15       7      18      11      34    \n",
       "ENSMUSG00000000049.11   0       0       5       1       1       3       3    \n",
       "                      CFG2013 CFG2014 CFG2015 ⋯ CFG2095 CFG2096 CFG2097 CFG2098\n",
       "ENSMUSG00000000001.4  274     303     258     ⋯ 287.00  408     300     265    \n",
       "ENSMUSG00000000003.15   0       0       0     ⋯   0.00    0       0       0    \n",
       "ENSMUSG00000000028.15  15      18       7     ⋯  33.18   42      39      35    \n",
       "ENSMUSG00000000031.16   2      11       1     ⋯   5.00    2       2       1    \n",
       "ENSMUSG00000000037.16  26      14      13     ⋯  25.00   39      18      41    \n",
       "ENSMUSG00000000049.11   2       1       0     ⋯   2.00    1       0       5    \n",
       "                      CFG2099 CFG2100 CFG2101 CFG2102 CFG2103 CFG2104\n",
       "ENSMUSG00000000001.4  340     229     331.00  360     417     269    \n",
       "ENSMUSG00000000003.15   0       0       0.00    0       0       0    \n",
       "ENSMUSG00000000028.15  35      22      57.07   34      68      49    \n",
       "ENSMUSG00000000031.16   3       6       4.00  436       0       0    \n",
       "ENSMUSG00000000037.16  36      21      28.00   33      35      46    \n",
       "ENSMUSG00000000049.11   0       0       1.00    3       0       0    "
      ]
     },
     "metadata": {},
     "output_type": "display_data"
    }
   ],
   "source": [
    "# View Rawdata\n",
    "head(cts)"
   ]
  },
  {
   "cell_type": "code",
   "execution_count": 3,
   "metadata": {
    "collapsed": true
   },
   "outputs": [],
   "source": [
    "# Load Annotations\n",
    "annotations = \"../GLDS-202_203/GLDS-202_SampleTable.csv\"\n",
    "coldata <- read.csv(annotations, row.names=1)"
   ]
  },
  {
   "cell_type": "code",
   "execution_count": 4,
   "metadata": {
    "collapsed": true
   },
   "outputs": [],
   "source": [
    "# Retrieve only Retina data\n",
    "coldata = coldata[coldata$Material %in% \"Retina\", ]"
   ]
  },
  {
   "cell_type": "code",
   "execution_count": 5,
   "metadata": {},
   "outputs": [
    {
     "data": {
      "text/html": [
       "<table>\n",
       "<thead><tr><th></th><th scope=col>Radiation</th><th scope=col>Unloading</th><th scope=col>Material</th><th scope=col>Time</th></tr></thead>\n",
       "<tbody>\n",
       "\t<tr><th scope=row>CFG2046</th><td>0.4gray </td><td>Loaded  </td><td>Retina  </td><td>7day    </td></tr>\n",
       "\t<tr><th scope=row>CFG2047</th><td>0gray   </td><td>Loaded  </td><td>Retina  </td><td>7day    </td></tr>\n",
       "\t<tr><th scope=row>CFG2048</th><td>0.4gray </td><td>Unloaded</td><td>Retina  </td><td>7day    </td></tr>\n",
       "\t<tr><th scope=row>CFG2049</th><td>0gray   </td><td>Unloaded</td><td>Retina  </td><td>7day    </td></tr>\n",
       "\t<tr><th scope=row>CFG2050</th><td>0.4gray </td><td>Loaded  </td><td>Retina  </td><td>7day    </td></tr>\n",
       "\t<tr><th scope=row>CFG2051</th><td>0gray   </td><td>Unloaded</td><td>Retina  </td><td>7day    </td></tr>\n",
       "\t<tr><th scope=row>CFG2052</th><td>0.4gray </td><td>Unloaded</td><td>Retina  </td><td>7day    </td></tr>\n",
       "\t<tr><th scope=row>CFG2053</th><td>0gray   </td><td>Unloaded</td><td>Retina  </td><td>7day    </td></tr>\n",
       "\t<tr><th scope=row>CFG2054</th><td>0.4gray </td><td>Unloaded</td><td>Retina  </td><td>7day    </td></tr>\n",
       "\t<tr><th scope=row>CFG2055</th><td>0gray   </td><td>Loaded  </td><td>Retina  </td><td>7day    </td></tr>\n",
       "\t<tr><th scope=row>CFG2056</th><td>0.4gray </td><td>Loaded  </td><td>Retina  </td><td>7day    </td></tr>\n",
       "\t<tr><th scope=row>CFG2057</th><td>0.4gray </td><td>Unloaded</td><td>Retina  </td><td>7day    </td></tr>\n",
       "\t<tr><th scope=row>CFG2058</th><td>0gray   </td><td>Unloaded</td><td>Retina  </td><td>7day    </td></tr>\n",
       "\t<tr><th scope=row>CFG2059</th><td>0.4gray </td><td>Unloaded</td><td>Retina  </td><td>7day    </td></tr>\n",
       "\t<tr><th scope=row>CFG2060</th><td>0gray   </td><td>Loaded  </td><td>Retina  </td><td>7day    </td></tr>\n",
       "\t<tr><th scope=row>CFG2061</th><td>0.4gray </td><td>Unloaded</td><td>Retina  </td><td>7day    </td></tr>\n",
       "\t<tr><th scope=row>CFG2062</th><td>0gray   </td><td>Loaded  </td><td>Retina  </td><td>7day    </td></tr>\n",
       "\t<tr><th scope=row>CFG2063</th><td>0gray   </td><td>Loaded  </td><td>Retina  </td><td>7day    </td></tr>\n",
       "\t<tr><th scope=row>CFG2064</th><td>0.4gray </td><td>Loaded  </td><td>Retina  </td><td>7day    </td></tr>\n",
       "\t<tr><th scope=row>CFG2065</th><td>0.4gray </td><td>Loaded  </td><td>Retina  </td><td>7day    </td></tr>\n",
       "\t<tr><th scope=row>CFG2066</th><td>0gray   </td><td>Loaded  </td><td>Retina  </td><td>7day    </td></tr>\n",
       "\t<tr><th scope=row>CFG2067</th><td>0gray   </td><td>Loaded  </td><td>Retina  </td><td>1month  </td></tr>\n",
       "\t<tr><th scope=row>CFG2068</th><td>0gray   </td><td>Loaded  </td><td>Retina  </td><td>1month  </td></tr>\n",
       "\t<tr><th scope=row>CFG2069</th><td>0gray   </td><td>Loaded  </td><td>Retina  </td><td>1month  </td></tr>\n",
       "\t<tr><th scope=row>CFG2070</th><td>0gray   </td><td>Loaded  </td><td>Retina  </td><td>1month  </td></tr>\n",
       "\t<tr><th scope=row>CFG2071</th><td>0gray   </td><td>Loaded  </td><td>Retina  </td><td>1month  </td></tr>\n",
       "\t<tr><th scope=row>CFG2072</th><td>0gray   </td><td>Unloaded</td><td>Retina  </td><td>1month  </td></tr>\n",
       "\t<tr><th scope=row>CFG2073</th><td>0gray   </td><td>Unloaded</td><td>Retina  </td><td>1month  </td></tr>\n",
       "\t<tr><th scope=row>CFG2074</th><td>0gray   </td><td>Unloaded</td><td>Retina  </td><td>1month  </td></tr>\n",
       "\t<tr><th scope=row>CFG2075</th><td>0gray   </td><td>Unloaded</td><td>Retina  </td><td>1month  </td></tr>\n",
       "\t<tr><th scope=row>CFG2076</th><td>0gray   </td><td>Unloaded</td><td>Retina  </td><td>1month  </td></tr>\n",
       "\t<tr><th scope=row>CFG2077</th><td>0.4gray </td><td>Loaded  </td><td>Retina  </td><td>1month  </td></tr>\n",
       "\t<tr><th scope=row>CFG2078</th><td>0.4gray </td><td>Loaded  </td><td>Retina  </td><td>1month  </td></tr>\n",
       "\t<tr><th scope=row>CFG2079</th><td>0.4gray </td><td>Loaded  </td><td>Retina  </td><td>1month  </td></tr>\n",
       "\t<tr><th scope=row>CFG2080</th><td>0.4gray </td><td>Loaded  </td><td>Retina  </td><td>1month  </td></tr>\n",
       "\t<tr><th scope=row>CFG2081</th><td>0.4gray </td><td>Loaded  </td><td>Retina  </td><td>1month  </td></tr>\n",
       "\t<tr><th scope=row>CFG2082</th><td>0.4gray </td><td>Loaded  </td><td>Retina  </td><td>1month  </td></tr>\n",
       "\t<tr><th scope=row>CFG2083</th><td>0.4gray </td><td>Unloaded</td><td>Retina  </td><td>1month  </td></tr>\n",
       "\t<tr><th scope=row>CFG2084</th><td>0.4gray </td><td>Unloaded</td><td>Retina  </td><td>1month  </td></tr>\n",
       "\t<tr><th scope=row>CFG2085</th><td>0.4gray </td><td>Unloaded</td><td>Retina  </td><td>1month  </td></tr>\n",
       "\t<tr><th scope=row>CFG2086</th><td>0.4gray </td><td>Unloaded</td><td>Retina  </td><td>1month  </td></tr>\n",
       "\t<tr><th scope=row>CFG2087</th><td>0gray   </td><td>Unloaded</td><td>Retina  </td><td>4month  </td></tr>\n",
       "\t<tr><th scope=row>CFG2088</th><td>0.4gray </td><td>Loaded  </td><td>Retina  </td><td>4month  </td></tr>\n",
       "\t<tr><th scope=row>CFG2089</th><td>0.4gray </td><td>Unloaded</td><td>Retina  </td><td>4month  </td></tr>\n",
       "\t<tr><th scope=row>CFG2090</th><td>0.4gray </td><td>Unloaded</td><td>Retina  </td><td>4month  </td></tr>\n",
       "\t<tr><th scope=row>CFG2091</th><td>0gray   </td><td>Unloaded</td><td>Retina  </td><td>4month  </td></tr>\n",
       "\t<tr><th scope=row>CFG2092</th><td>0.4gray </td><td>Loaded  </td><td>Retina  </td><td>4month  </td></tr>\n",
       "\t<tr><th scope=row>CFG2093</th><td>0.4gray </td><td>Loaded  </td><td>Retina  </td><td>4month  </td></tr>\n",
       "\t<tr><th scope=row>CFG2094</th><td>0gray   </td><td>Loaded  </td><td>Retina  </td><td>4month  </td></tr>\n",
       "\t<tr><th scope=row>CFG2095</th><td>0.4gray </td><td>Loaded  </td><td>Retina  </td><td>4month  </td></tr>\n",
       "\t<tr><th scope=row>CFG2096</th><td>0gray   </td><td>Loaded  </td><td>Retina  </td><td>4month  </td></tr>\n",
       "\t<tr><th scope=row>CFG2097</th><td>0gray   </td><td>Unloaded</td><td>Retina  </td><td>4month  </td></tr>\n",
       "\t<tr><th scope=row>CFG2098</th><td>0.4gray </td><td>Unloaded</td><td>Retina  </td><td>4month  </td></tr>\n",
       "\t<tr><th scope=row>CFG2099</th><td>0.4gray </td><td>Loaded  </td><td>Retina  </td><td>4month  </td></tr>\n",
       "\t<tr><th scope=row>CFG2100</th><td>0gray   </td><td>Unloaded</td><td>Retina  </td><td>4month  </td></tr>\n",
       "\t<tr><th scope=row>CFG2101</th><td>0.4gray </td><td>Unloaded</td><td>Retina  </td><td>4month  </td></tr>\n",
       "\t<tr><th scope=row>CFG2102</th><td>0gray   </td><td>Unloaded</td><td>Retina  </td><td>4month  </td></tr>\n",
       "\t<tr><th scope=row>CFG2103</th><td>0gray   </td><td>Loaded  </td><td>Retina  </td><td>4month  </td></tr>\n",
       "\t<tr><th scope=row>CFG2104</th><td>0gray   </td><td>Loaded  </td><td>Retina  </td><td>4month  </td></tr>\n",
       "</tbody>\n",
       "</table>\n"
      ],
      "text/latex": [
       "\\begin{tabular}{r|llll}\n",
       "  & Radiation & Unloading & Material & Time\\\\\n",
       "\\hline\n",
       "\tCFG2046 & 0.4gray  & Loaded   & Retina   & 7day    \\\\\n",
       "\tCFG2047 & 0gray    & Loaded   & Retina   & 7day    \\\\\n",
       "\tCFG2048 & 0.4gray  & Unloaded & Retina   & 7day    \\\\\n",
       "\tCFG2049 & 0gray    & Unloaded & Retina   & 7day    \\\\\n",
       "\tCFG2050 & 0.4gray  & Loaded   & Retina   & 7day    \\\\\n",
       "\tCFG2051 & 0gray    & Unloaded & Retina   & 7day    \\\\\n",
       "\tCFG2052 & 0.4gray  & Unloaded & Retina   & 7day    \\\\\n",
       "\tCFG2053 & 0gray    & Unloaded & Retina   & 7day    \\\\\n",
       "\tCFG2054 & 0.4gray  & Unloaded & Retina   & 7day    \\\\\n",
       "\tCFG2055 & 0gray    & Loaded   & Retina   & 7day    \\\\\n",
       "\tCFG2056 & 0.4gray  & Loaded   & Retina   & 7day    \\\\\n",
       "\tCFG2057 & 0.4gray  & Unloaded & Retina   & 7day    \\\\\n",
       "\tCFG2058 & 0gray    & Unloaded & Retina   & 7day    \\\\\n",
       "\tCFG2059 & 0.4gray  & Unloaded & Retina   & 7day    \\\\\n",
       "\tCFG2060 & 0gray    & Loaded   & Retina   & 7day    \\\\\n",
       "\tCFG2061 & 0.4gray  & Unloaded & Retina   & 7day    \\\\\n",
       "\tCFG2062 & 0gray    & Loaded   & Retina   & 7day    \\\\\n",
       "\tCFG2063 & 0gray    & Loaded   & Retina   & 7day    \\\\\n",
       "\tCFG2064 & 0.4gray  & Loaded   & Retina   & 7day    \\\\\n",
       "\tCFG2065 & 0.4gray  & Loaded   & Retina   & 7day    \\\\\n",
       "\tCFG2066 & 0gray    & Loaded   & Retina   & 7day    \\\\\n",
       "\tCFG2067 & 0gray    & Loaded   & Retina   & 1month  \\\\\n",
       "\tCFG2068 & 0gray    & Loaded   & Retina   & 1month  \\\\\n",
       "\tCFG2069 & 0gray    & Loaded   & Retina   & 1month  \\\\\n",
       "\tCFG2070 & 0gray    & Loaded   & Retina   & 1month  \\\\\n",
       "\tCFG2071 & 0gray    & Loaded   & Retina   & 1month  \\\\\n",
       "\tCFG2072 & 0gray    & Unloaded & Retina   & 1month  \\\\\n",
       "\tCFG2073 & 0gray    & Unloaded & Retina   & 1month  \\\\\n",
       "\tCFG2074 & 0gray    & Unloaded & Retina   & 1month  \\\\\n",
       "\tCFG2075 & 0gray    & Unloaded & Retina   & 1month  \\\\\n",
       "\tCFG2076 & 0gray    & Unloaded & Retina   & 1month  \\\\\n",
       "\tCFG2077 & 0.4gray  & Loaded   & Retina   & 1month  \\\\\n",
       "\tCFG2078 & 0.4gray  & Loaded   & Retina   & 1month  \\\\\n",
       "\tCFG2079 & 0.4gray  & Loaded   & Retina   & 1month  \\\\\n",
       "\tCFG2080 & 0.4gray  & Loaded   & Retina   & 1month  \\\\\n",
       "\tCFG2081 & 0.4gray  & Loaded   & Retina   & 1month  \\\\\n",
       "\tCFG2082 & 0.4gray  & Loaded   & Retina   & 1month  \\\\\n",
       "\tCFG2083 & 0.4gray  & Unloaded & Retina   & 1month  \\\\\n",
       "\tCFG2084 & 0.4gray  & Unloaded & Retina   & 1month  \\\\\n",
       "\tCFG2085 & 0.4gray  & Unloaded & Retina   & 1month  \\\\\n",
       "\tCFG2086 & 0.4gray  & Unloaded & Retina   & 1month  \\\\\n",
       "\tCFG2087 & 0gray    & Unloaded & Retina   & 4month  \\\\\n",
       "\tCFG2088 & 0.4gray  & Loaded   & Retina   & 4month  \\\\\n",
       "\tCFG2089 & 0.4gray  & Unloaded & Retina   & 4month  \\\\\n",
       "\tCFG2090 & 0.4gray  & Unloaded & Retina   & 4month  \\\\\n",
       "\tCFG2091 & 0gray    & Unloaded & Retina   & 4month  \\\\\n",
       "\tCFG2092 & 0.4gray  & Loaded   & Retina   & 4month  \\\\\n",
       "\tCFG2093 & 0.4gray  & Loaded   & Retina   & 4month  \\\\\n",
       "\tCFG2094 & 0gray    & Loaded   & Retina   & 4month  \\\\\n",
       "\tCFG2095 & 0.4gray  & Loaded   & Retina   & 4month  \\\\\n",
       "\tCFG2096 & 0gray    & Loaded   & Retina   & 4month  \\\\\n",
       "\tCFG2097 & 0gray    & Unloaded & Retina   & 4month  \\\\\n",
       "\tCFG2098 & 0.4gray  & Unloaded & Retina   & 4month  \\\\\n",
       "\tCFG2099 & 0.4gray  & Loaded   & Retina   & 4month  \\\\\n",
       "\tCFG2100 & 0gray    & Unloaded & Retina   & 4month  \\\\\n",
       "\tCFG2101 & 0.4gray  & Unloaded & Retina   & 4month  \\\\\n",
       "\tCFG2102 & 0gray    & Unloaded & Retina   & 4month  \\\\\n",
       "\tCFG2103 & 0gray    & Loaded   & Retina   & 4month  \\\\\n",
       "\tCFG2104 & 0gray    & Loaded   & Retina   & 4month  \\\\\n",
       "\\end{tabular}\n"
      ],
      "text/markdown": [
       "\n",
       "| <!--/--> | Radiation | Unloading | Material | Time | \n",
       "|---|---|---|---|---|---|---|---|---|---|---|---|---|---|---|---|---|---|---|---|---|---|---|---|---|---|---|---|---|---|---|---|---|---|---|---|---|---|---|---|---|---|---|---|---|---|---|---|---|---|---|---|---|---|---|---|---|---|---|\n",
       "| CFG2046 | 0.4gray  | Loaded   | Retina   | 7day     | \n",
       "| CFG2047 | 0gray    | Loaded   | Retina   | 7day     | \n",
       "| CFG2048 | 0.4gray  | Unloaded | Retina   | 7day     | \n",
       "| CFG2049 | 0gray    | Unloaded | Retina   | 7day     | \n",
       "| CFG2050 | 0.4gray  | Loaded   | Retina   | 7day     | \n",
       "| CFG2051 | 0gray    | Unloaded | Retina   | 7day     | \n",
       "| CFG2052 | 0.4gray  | Unloaded | Retina   | 7day     | \n",
       "| CFG2053 | 0gray    | Unloaded | Retina   | 7day     | \n",
       "| CFG2054 | 0.4gray  | Unloaded | Retina   | 7day     | \n",
       "| CFG2055 | 0gray    | Loaded   | Retina   | 7day     | \n",
       "| CFG2056 | 0.4gray  | Loaded   | Retina   | 7day     | \n",
       "| CFG2057 | 0.4gray  | Unloaded | Retina   | 7day     | \n",
       "| CFG2058 | 0gray    | Unloaded | Retina   | 7day     | \n",
       "| CFG2059 | 0.4gray  | Unloaded | Retina   | 7day     | \n",
       "| CFG2060 | 0gray    | Loaded   | Retina   | 7day     | \n",
       "| CFG2061 | 0.4gray  | Unloaded | Retina   | 7day     | \n",
       "| CFG2062 | 0gray    | Loaded   | Retina   | 7day     | \n",
       "| CFG2063 | 0gray    | Loaded   | Retina   | 7day     | \n",
       "| CFG2064 | 0.4gray  | Loaded   | Retina   | 7day     | \n",
       "| CFG2065 | 0.4gray  | Loaded   | Retina   | 7day     | \n",
       "| CFG2066 | 0gray    | Loaded   | Retina   | 7day     | \n",
       "| CFG2067 | 0gray    | Loaded   | Retina   | 1month   | \n",
       "| CFG2068 | 0gray    | Loaded   | Retina   | 1month   | \n",
       "| CFG2069 | 0gray    | Loaded   | Retina   | 1month   | \n",
       "| CFG2070 | 0gray    | Loaded   | Retina   | 1month   | \n",
       "| CFG2071 | 0gray    | Loaded   | Retina   | 1month   | \n",
       "| CFG2072 | 0gray    | Unloaded | Retina   | 1month   | \n",
       "| CFG2073 | 0gray    | Unloaded | Retina   | 1month   | \n",
       "| CFG2074 | 0gray    | Unloaded | Retina   | 1month   | \n",
       "| CFG2075 | 0gray    | Unloaded | Retina   | 1month   | \n",
       "| CFG2076 | 0gray    | Unloaded | Retina   | 1month   | \n",
       "| CFG2077 | 0.4gray  | Loaded   | Retina   | 1month   | \n",
       "| CFG2078 | 0.4gray  | Loaded   | Retina   | 1month   | \n",
       "| CFG2079 | 0.4gray  | Loaded   | Retina   | 1month   | \n",
       "| CFG2080 | 0.4gray  | Loaded   | Retina   | 1month   | \n",
       "| CFG2081 | 0.4gray  | Loaded   | Retina   | 1month   | \n",
       "| CFG2082 | 0.4gray  | Loaded   | Retina   | 1month   | \n",
       "| CFG2083 | 0.4gray  | Unloaded | Retina   | 1month   | \n",
       "| CFG2084 | 0.4gray  | Unloaded | Retina   | 1month   | \n",
       "| CFG2085 | 0.4gray  | Unloaded | Retina   | 1month   | \n",
       "| CFG2086 | 0.4gray  | Unloaded | Retina   | 1month   | \n",
       "| CFG2087 | 0gray    | Unloaded | Retina   | 4month   | \n",
       "| CFG2088 | 0.4gray  | Loaded   | Retina   | 4month   | \n",
       "| CFG2089 | 0.4gray  | Unloaded | Retina   | 4month   | \n",
       "| CFG2090 | 0.4gray  | Unloaded | Retina   | 4month   | \n",
       "| CFG2091 | 0gray    | Unloaded | Retina   | 4month   | \n",
       "| CFG2092 | 0.4gray  | Loaded   | Retina   | 4month   | \n",
       "| CFG2093 | 0.4gray  | Loaded   | Retina   | 4month   | \n",
       "| CFG2094 | 0gray    | Loaded   | Retina   | 4month   | \n",
       "| CFG2095 | 0.4gray  | Loaded   | Retina   | 4month   | \n",
       "| CFG2096 | 0gray    | Loaded   | Retina   | 4month   | \n",
       "| CFG2097 | 0gray    | Unloaded | Retina   | 4month   | \n",
       "| CFG2098 | 0.4gray  | Unloaded | Retina   | 4month   | \n",
       "| CFG2099 | 0.4gray  | Loaded   | Retina   | 4month   | \n",
       "| CFG2100 | 0gray    | Unloaded | Retina   | 4month   | \n",
       "| CFG2101 | 0.4gray  | Unloaded | Retina   | 4month   | \n",
       "| CFG2102 | 0gray    | Unloaded | Retina   | 4month   | \n",
       "| CFG2103 | 0gray    | Loaded   | Retina   | 4month   | \n",
       "| CFG2104 | 0gray    | Loaded   | Retina   | 4month   | \n",
       "\n",
       "\n"
      ],
      "text/plain": [
       "        Radiation Unloading Material Time  \n",
       "CFG2046 0.4gray   Loaded    Retina   7day  \n",
       "CFG2047 0gray     Loaded    Retina   7day  \n",
       "CFG2048 0.4gray   Unloaded  Retina   7day  \n",
       "CFG2049 0gray     Unloaded  Retina   7day  \n",
       "CFG2050 0.4gray   Loaded    Retina   7day  \n",
       "CFG2051 0gray     Unloaded  Retina   7day  \n",
       "CFG2052 0.4gray   Unloaded  Retina   7day  \n",
       "CFG2053 0gray     Unloaded  Retina   7day  \n",
       "CFG2054 0.4gray   Unloaded  Retina   7day  \n",
       "CFG2055 0gray     Loaded    Retina   7day  \n",
       "CFG2056 0.4gray   Loaded    Retina   7day  \n",
       "CFG2057 0.4gray   Unloaded  Retina   7day  \n",
       "CFG2058 0gray     Unloaded  Retina   7day  \n",
       "CFG2059 0.4gray   Unloaded  Retina   7day  \n",
       "CFG2060 0gray     Loaded    Retina   7day  \n",
       "CFG2061 0.4gray   Unloaded  Retina   7day  \n",
       "CFG2062 0gray     Loaded    Retina   7day  \n",
       "CFG2063 0gray     Loaded    Retina   7day  \n",
       "CFG2064 0.4gray   Loaded    Retina   7day  \n",
       "CFG2065 0.4gray   Loaded    Retina   7day  \n",
       "CFG2066 0gray     Loaded    Retina   7day  \n",
       "CFG2067 0gray     Loaded    Retina   1month\n",
       "CFG2068 0gray     Loaded    Retina   1month\n",
       "CFG2069 0gray     Loaded    Retina   1month\n",
       "CFG2070 0gray     Loaded    Retina   1month\n",
       "CFG2071 0gray     Loaded    Retina   1month\n",
       "CFG2072 0gray     Unloaded  Retina   1month\n",
       "CFG2073 0gray     Unloaded  Retina   1month\n",
       "CFG2074 0gray     Unloaded  Retina   1month\n",
       "CFG2075 0gray     Unloaded  Retina   1month\n",
       "CFG2076 0gray     Unloaded  Retina   1month\n",
       "CFG2077 0.4gray   Loaded    Retina   1month\n",
       "CFG2078 0.4gray   Loaded    Retina   1month\n",
       "CFG2079 0.4gray   Loaded    Retina   1month\n",
       "CFG2080 0.4gray   Loaded    Retina   1month\n",
       "CFG2081 0.4gray   Loaded    Retina   1month\n",
       "CFG2082 0.4gray   Loaded    Retina   1month\n",
       "CFG2083 0.4gray   Unloaded  Retina   1month\n",
       "CFG2084 0.4gray   Unloaded  Retina   1month\n",
       "CFG2085 0.4gray   Unloaded  Retina   1month\n",
       "CFG2086 0.4gray   Unloaded  Retina   1month\n",
       "CFG2087 0gray     Unloaded  Retina   4month\n",
       "CFG2088 0.4gray   Loaded    Retina   4month\n",
       "CFG2089 0.4gray   Unloaded  Retina   4month\n",
       "CFG2090 0.4gray   Unloaded  Retina   4month\n",
       "CFG2091 0gray     Unloaded  Retina   4month\n",
       "CFG2092 0.4gray   Loaded    Retina   4month\n",
       "CFG2093 0.4gray   Loaded    Retina   4month\n",
       "CFG2094 0gray     Loaded    Retina   4month\n",
       "CFG2095 0.4gray   Loaded    Retina   4month\n",
       "CFG2096 0gray     Loaded    Retina   4month\n",
       "CFG2097 0gray     Unloaded  Retina   4month\n",
       "CFG2098 0.4gray   Unloaded  Retina   4month\n",
       "CFG2099 0.4gray   Loaded    Retina   4month\n",
       "CFG2100 0gray     Unloaded  Retina   4month\n",
       "CFG2101 0.4gray   Unloaded  Retina   4month\n",
       "CFG2102 0gray     Unloaded  Retina   4month\n",
       "CFG2103 0gray     Loaded    Retina   4month\n",
       "CFG2104 0gray     Loaded    Retina   4month"
      ]
     },
     "metadata": {},
     "output_type": "display_data"
    }
   ],
   "source": [
    "# View Annotations\n",
    "coldata"
   ]
  },
  {
   "cell_type": "code",
   "execution_count": 6,
   "metadata": {
    "collapsed": true
   },
   "outputs": [],
   "source": [
    "# Retina Counts Only\n",
    "retina_cts = cts[ , (colnames(cts) %in% c(rownames(coldata)))]\n",
    "\n",
    "# DESeq2 requires integers\n",
    "retina_cts = round(retina_cts)"
   ]
  },
  {
   "cell_type": "code",
   "execution_count": 7,
   "metadata": {
    "scrolled": true
   },
   "outputs": [
    {
     "data": {
      "text/html": [
       "<table>\n",
       "<thead><tr><th></th><th scope=col>CFG2046</th><th scope=col>CFG2047</th><th scope=col>CFG2048</th><th scope=col>CFG2049</th><th scope=col>CFG2050</th><th scope=col>CFG2051</th><th scope=col>CFG2052</th><th scope=col>CFG2053</th><th scope=col>CFG2054</th><th scope=col>CFG2055</th><th scope=col>⋯</th><th scope=col>CFG2095</th><th scope=col>CFG2096</th><th scope=col>CFG2097</th><th scope=col>CFG2098</th><th scope=col>CFG2099</th><th scope=col>CFG2100</th><th scope=col>CFG2101</th><th scope=col>CFG2102</th><th scope=col>CFG2103</th><th scope=col>CFG2104</th></tr></thead>\n",
       "<tbody>\n",
       "\t<tr><th scope=row>ENSMUSG00000000001.4</th><td>296</td><td>339</td><td>253</td><td>229</td><td>234</td><td>262</td><td>244</td><td>244</td><td>256</td><td>298</td><td>⋯  </td><td>287</td><td>408</td><td>300</td><td>265</td><td>340</td><td>229</td><td>331</td><td>360</td><td>417</td><td>269</td></tr>\n",
       "\t<tr><th scope=row>ENSMUSG00000000003.15</th><td>  0</td><td>  0</td><td>  0</td><td>  0</td><td>  0</td><td>  0</td><td>  0</td><td>  0</td><td>  0</td><td>  0</td><td>⋯  </td><td>  0</td><td>  0</td><td>  0</td><td>  0</td><td>  0</td><td>  0</td><td>  0</td><td>  0</td><td>  0</td><td>  0</td></tr>\n",
       "\t<tr><th scope=row>ENSMUSG00000000028.15</th><td> 30</td><td> 46</td><td> 26</td><td> 35</td><td> 32</td><td> 17</td><td> 30</td><td> 46</td><td> 38</td><td> 37</td><td>⋯  </td><td> 33</td><td> 42</td><td> 39</td><td> 35</td><td> 35</td><td> 22</td><td> 57</td><td> 34</td><td> 68</td><td> 49</td></tr>\n",
       "\t<tr><th scope=row>ENSMUSG00000000031.16</th><td>  8</td><td>  4</td><td>  3</td><td>  3</td><td>  3</td><td>  1</td><td>  3</td><td>  4</td><td>  0</td><td>  0</td><td>⋯  </td><td>  5</td><td>  2</td><td>  2</td><td>  1</td><td>  3</td><td>  6</td><td>  4</td><td>436</td><td>  0</td><td>  0</td></tr>\n",
       "\t<tr><th scope=row>ENSMUSG00000000037.16</th><td> 30</td><td> 43</td><td> 28</td><td> 18</td><td> 19</td><td> 23</td><td> 20</td><td> 26</td><td> 22</td><td> 37</td><td>⋯  </td><td> 25</td><td> 39</td><td> 18</td><td> 41</td><td> 36</td><td> 21</td><td> 28</td><td> 33</td><td> 35</td><td> 46</td></tr>\n",
       "\t<tr><th scope=row>ENSMUSG00000000049.11</th><td>  0</td><td>  1</td><td>  2</td><td>  0</td><td>  0</td><td>  2</td><td>  1</td><td>  2</td><td>  0</td><td>  0</td><td>⋯  </td><td>  2</td><td>  1</td><td>  0</td><td>  5</td><td>  0</td><td>  0</td><td>  1</td><td>  3</td><td>  0</td><td>  0</td></tr>\n",
       "</tbody>\n",
       "</table>\n"
      ],
      "text/latex": [
       "\\begin{tabular}{r|lllllllllllllllllllllllllllllllllllllllllllllllllllllllllll}\n",
       "  & CFG2046 & CFG2047 & CFG2048 & CFG2049 & CFG2050 & CFG2051 & CFG2052 & CFG2053 & CFG2054 & CFG2055 & ⋯ & CFG2095 & CFG2096 & CFG2097 & CFG2098 & CFG2099 & CFG2100 & CFG2101 & CFG2102 & CFG2103 & CFG2104\\\\\n",
       "\\hline\n",
       "\tENSMUSG00000000001.4 & 296 & 339 & 253 & 229 & 234 & 262 & 244 & 244 & 256 & 298 & ⋯   & 287 & 408 & 300 & 265 & 340 & 229 & 331 & 360 & 417 & 269\\\\\n",
       "\tENSMUSG00000000003.15 &   0 &   0 &   0 &   0 &   0 &   0 &   0 &   0 &   0 &   0 & ⋯   &   0 &   0 &   0 &   0 &   0 &   0 &   0 &   0 &   0 &   0\\\\\n",
       "\tENSMUSG00000000028.15 &  30 &  46 &  26 &  35 &  32 &  17 &  30 &  46 &  38 &  37 & ⋯   &  33 &  42 &  39 &  35 &  35 &  22 &  57 &  34 &  68 &  49\\\\\n",
       "\tENSMUSG00000000031.16 &   8 &   4 &   3 &   3 &   3 &   1 &   3 &   4 &   0 &   0 & ⋯   &   5 &   2 &   2 &   1 &   3 &   6 &   4 & 436 &   0 &   0\\\\\n",
       "\tENSMUSG00000000037.16 &  30 &  43 &  28 &  18 &  19 &  23 &  20 &  26 &  22 &  37 & ⋯   &  25 &  39 &  18 &  41 &  36 &  21 &  28 &  33 &  35 &  46\\\\\n",
       "\tENSMUSG00000000049.11 &   0 &   1 &   2 &   0 &   0 &   2 &   1 &   2 &   0 &   0 & ⋯   &   2 &   1 &   0 &   5 &   0 &   0 &   1 &   3 &   0 &   0\\\\\n",
       "\\end{tabular}\n"
      ],
      "text/markdown": [
       "\n",
       "| <!--/--> | CFG2046 | CFG2047 | CFG2048 | CFG2049 | CFG2050 | CFG2051 | CFG2052 | CFG2053 | CFG2054 | CFG2055 | ⋯ | CFG2095 | CFG2096 | CFG2097 | CFG2098 | CFG2099 | CFG2100 | CFG2101 | CFG2102 | CFG2103 | CFG2104 | \n",
       "|---|---|---|---|---|---|\n",
       "| ENSMUSG00000000001.4 | 296 | 339 | 253 | 229 | 234 | 262 | 244 | 244 | 256 | 298 | ⋯   | 287 | 408 | 300 | 265 | 340 | 229 | 331 | 360 | 417 | 269 | \n",
       "| ENSMUSG00000000003.15 |   0 |   0 |   0 |   0 |   0 |   0 |   0 |   0 |   0 |   0 | ⋯   |   0 |   0 |   0 |   0 |   0 |   0 |   0 |   0 |   0 |   0 | \n",
       "| ENSMUSG00000000028.15 |  30 |  46 |  26 |  35 |  32 |  17 |  30 |  46 |  38 |  37 | ⋯   |  33 |  42 |  39 |  35 |  35 |  22 |  57 |  34 |  68 |  49 | \n",
       "| ENSMUSG00000000031.16 |   8 |   4 |   3 |   3 |   3 |   1 |   3 |   4 |   0 |   0 | ⋯   |   5 |   2 |   2 |   1 |   3 |   6 |   4 | 436 |   0 |   0 | \n",
       "| ENSMUSG00000000037.16 |  30 |  43 |  28 |  18 |  19 |  23 |  20 |  26 |  22 |  37 | ⋯   |  25 |  39 |  18 |  41 |  36 |  21 |  28 |  33 |  35 |  46 | \n",
       "| ENSMUSG00000000049.11 |   0 |   1 |   2 |   0 |   0 |   2 |   1 |   2 |   0 |   0 | ⋯   |   2 |   1 |   0 |   5 |   0 |   0 |   1 |   3 |   0 |   0 | \n",
       "\n",
       "\n"
      ],
      "text/plain": [
       "                      CFG2046 CFG2047 CFG2048 CFG2049 CFG2050 CFG2051 CFG2052\n",
       "ENSMUSG00000000001.4  296     339     253     229     234     262     244    \n",
       "ENSMUSG00000000003.15   0       0       0       0       0       0       0    \n",
       "ENSMUSG00000000028.15  30      46      26      35      32      17      30    \n",
       "ENSMUSG00000000031.16   8       4       3       3       3       1       3    \n",
       "ENSMUSG00000000037.16  30      43      28      18      19      23      20    \n",
       "ENSMUSG00000000049.11   0       1       2       0       0       2       1    \n",
       "                      CFG2053 CFG2054 CFG2055 ⋯ CFG2095 CFG2096 CFG2097 CFG2098\n",
       "ENSMUSG00000000001.4  244     256     298     ⋯ 287     408     300     265    \n",
       "ENSMUSG00000000003.15   0       0       0     ⋯   0       0       0       0    \n",
       "ENSMUSG00000000028.15  46      38      37     ⋯  33      42      39      35    \n",
       "ENSMUSG00000000031.16   4       0       0     ⋯   5       2       2       1    \n",
       "ENSMUSG00000000037.16  26      22      37     ⋯  25      39      18      41    \n",
       "ENSMUSG00000000049.11   2       0       0     ⋯   2       1       0       5    \n",
       "                      CFG2099 CFG2100 CFG2101 CFG2102 CFG2103 CFG2104\n",
       "ENSMUSG00000000001.4  340     229     331     360     417     269    \n",
       "ENSMUSG00000000003.15   0       0       0       0       0       0    \n",
       "ENSMUSG00000000028.15  35      22      57      34      68      49    \n",
       "ENSMUSG00000000031.16   3       6       4     436       0       0    \n",
       "ENSMUSG00000000037.16  36      21      28      33      35      46    \n",
       "ENSMUSG00000000049.11   0       0       1       3       0       0    "
      ]
     },
     "metadata": {},
     "output_type": "display_data"
    }
   ],
   "source": [
    "# Confirm there are only retina columns\n",
    "head(retina_cts)"
   ]
  },
  {
   "cell_type": "code",
   "execution_count": 8,
   "metadata": {},
   "outputs": [
    {
     "data": {
      "text/html": [
       "TRUE"
      ],
      "text/latex": [
       "TRUE"
      ],
      "text/markdown": [
       "TRUE"
      ],
      "text/plain": [
       "[1] TRUE"
      ]
     },
     "metadata": {},
     "output_type": "display_data"
    }
   ],
   "source": [
    "# Confirm that coldata and retina counts are ordered the same\n",
    "all(rownames(coldata) == colnames(retina_cts))"
   ]
  },
  {
   "cell_type": "code",
   "execution_count": 9,
   "metadata": {
    "collapsed": true
   },
   "outputs": [],
   "source": [
    "##### Filter colnames for all comparisons #####\n",
    "\n",
    "### Time = 7 Days ###\n",
    "timepoint = \"7day\"\n",
    "\n",
    "# Condition = Radiation and Control\n",
    "retina_7day_radiation_colnames =  subset(coldata, \n",
    "                                        (Time == timepoint & Radiation == \"0.4gray\" & Unloading == \"Loaded\")\n",
    "                                        | (Time == timepoint & Radiation == \"0gray\" & Unloading == \"Loaded\"))\n",
    "\n",
    "# Condition = Unloaded and Control\n",
    "retina_7day_unloaded_colnames =  subset(coldata, \n",
    "                                        (Time == timepoint & Radiation == \"0gray\" & Unloading == \"Unloaded\")\n",
    "                                        | (Time == timepoint & Radiation == \"0gray\" & Unloading == \"Loaded\"))\n",
    "\n",
    "# Condition = Combination and Control\n",
    "retina_7day_combination_colnames =  subset(coldata,\n",
    "                                            (Time == timepoint & Radiation == \"0.4gray\" & Unloading == \"Unloaded\")\n",
    "                                            | (Time == timepoint & Radiation == \"0gray\" & Unloading == \"Loaded\"))\n",
    "\n",
    "\n",
    "\n",
    "### Time = 1 Month ###\n",
    "timepoint = \"1month\"\n",
    "\n",
    "# Condition = Radiation and Control\n",
    "retina_1month_radiation_colnames =  subset(coldata, \n",
    "                                        (Time == timepoint & Radiation == \"0.4gray\" & Unloading == \"Loaded\")\n",
    "                                        | (Time == timepoint & Radiation == \"0gray\" & Unloading == \"Loaded\"))\n",
    "\n",
    "# Condition = Unloaded and Control\n",
    "retina_1month_unloaded_colnames =  subset(coldata, \n",
    "                                        (Time == timepoint & Radiation == \"0gray\" & Unloading == \"Unloaded\")\n",
    "                                        | (Time == timepoint & Radiation == \"0gray\" & Unloading == \"Loaded\"))\n",
    "\n",
    "# Condition = Combination and Control\n",
    "retina_1month_combination_colnames =  subset(coldata,\n",
    "                                            (Time == timepoint & Radiation == \"0.4gray\" & Unloading == \"Unloaded\")\n",
    "                                            | (Time == timepoint & Radiation == \"0gray\" & Unloading == \"Loaded\"))\n",
    "\n",
    "\n",
    "### Time = 4 Month ###\n",
    "timepoint = \"4month\"\n",
    "\n",
    "# Condition = Radiation and Control\n",
    "retina_4month_radiation_colnames =  subset(coldata, \n",
    "                                        (Time == timepoint & Radiation == \"0.4gray\" & Unloading == \"Loaded\")\n",
    "                                        | (Time == timepoint & Radiation == \"0gray\" & Unloading == \"Loaded\"))\n",
    "\n",
    "# Condition = Unloaded and Control\n",
    "retina_4month_unloaded_colnames =  subset(coldata, \n",
    "                                        (Time == timepoint & Radiation == \"0gray\" & Unloading == \"Unloaded\")\n",
    "                                        | (Time == timepoint & Radiation == \"0gray\" & Unloading == \"Loaded\"))\n",
    "\n",
    "# Condition = Combination and Control\n",
    "retina_4month_combination_colnames =  subset(coldata,\n",
    "                                            (Time == timepoint & Radiation == \"0.4gray\" & Unloading == \"Unloaded\")\n",
    "                                            | (Time == timepoint & Radiation == \"0gray\" & Unloading == \"Loaded\"))"
   ]
  },
  {
   "cell_type": "code",
   "execution_count": 10,
   "metadata": {
    "collapsed": true
   },
   "outputs": [],
   "source": [
    "##### Filter counts for all comparisons #####\n",
    "\n",
    "retina_7day_radiation_cts = retina_cts[ , (colnames(retina_cts) %in% c(rownames(retina_7day_radiation_colnames)))]\n",
    "retina_7day_unloaded_cts = retina_cts[ , (colnames(retina_cts) %in% c(rownames(retina_7day_unloaded_colnames)))]\n",
    "retina_7day_combination_cts = retina_cts[ , (colnames(retina_cts) %in% c(rownames(retina_7day_combination_colnames)))]\n",
    "\n",
    "retina_1month_radiation_cts = retina_cts[ , (colnames(retina_cts) %in% c(rownames(retina_1month_radiation_colnames)))]\n",
    "retina_1month_unloaded_cts = retina_cts[ , (colnames(retina_cts) %in% c(rownames(retina_1month_unloaded_colnames)))]\n",
    "retina_1month_combination_cts = retina_cts[ , (colnames(retina_cts) %in% c(rownames(retina_1month_combination_colnames)))]\n",
    "\n",
    "retina_4month_radiation_cts = retina_cts[ , (colnames(retina_cts) %in% c(rownames(retina_4month_radiation_colnames)))]\n",
    "retina_4month_unloaded_cts = retina_cts[ , (colnames(retina_cts) %in% c(rownames(retina_4month_unloaded_colnames)))]\n",
    "retina_4month_combination_cts = retina_cts[ , (colnames(retina_cts) %in% c(rownames(retina_4month_combination_colnames)))]"
   ]
  },
  {
   "cell_type": "code",
   "execution_count": 11,
   "metadata": {},
   "outputs": [
    {
     "data": {
      "text/html": [
       "TRUE"
      ],
      "text/latex": [
       "TRUE"
      ],
      "text/markdown": [
       "TRUE"
      ],
      "text/plain": [
       "[1] TRUE"
      ]
     },
     "metadata": {},
     "output_type": "display_data"
    },
    {
     "data": {
      "text/html": [
       "TRUE"
      ],
      "text/latex": [
       "TRUE"
      ],
      "text/markdown": [
       "TRUE"
      ],
      "text/plain": [
       "[1] TRUE"
      ]
     },
     "metadata": {},
     "output_type": "display_data"
    },
    {
     "data": {
      "text/html": [
       "TRUE"
      ],
      "text/latex": [
       "TRUE"
      ],
      "text/markdown": [
       "TRUE"
      ],
      "text/plain": [
       "[1] TRUE"
      ]
     },
     "metadata": {},
     "output_type": "display_data"
    },
    {
     "data": {
      "text/html": [
       "TRUE"
      ],
      "text/latex": [
       "TRUE"
      ],
      "text/markdown": [
       "TRUE"
      ],
      "text/plain": [
       "[1] TRUE"
      ]
     },
     "metadata": {},
     "output_type": "display_data"
    },
    {
     "data": {
      "text/html": [
       "TRUE"
      ],
      "text/latex": [
       "TRUE"
      ],
      "text/markdown": [
       "TRUE"
      ],
      "text/plain": [
       "[1] TRUE"
      ]
     },
     "metadata": {},
     "output_type": "display_data"
    },
    {
     "data": {
      "text/html": [
       "TRUE"
      ],
      "text/latex": [
       "TRUE"
      ],
      "text/markdown": [
       "TRUE"
      ],
      "text/plain": [
       "[1] TRUE"
      ]
     },
     "metadata": {},
     "output_type": "display_data"
    },
    {
     "data": {
      "text/html": [
       "TRUE"
      ],
      "text/latex": [
       "TRUE"
      ],
      "text/markdown": [
       "TRUE"
      ],
      "text/plain": [
       "[1] TRUE"
      ]
     },
     "metadata": {},
     "output_type": "display_data"
    },
    {
     "data": {
      "text/html": [
       "TRUE"
      ],
      "text/latex": [
       "TRUE"
      ],
      "text/markdown": [
       "TRUE"
      ],
      "text/plain": [
       "[1] TRUE"
      ]
     },
     "metadata": {},
     "output_type": "display_data"
    },
    {
     "data": {
      "text/html": [
       "TRUE"
      ],
      "text/latex": [
       "TRUE"
      ],
      "text/markdown": [
       "TRUE"
      ],
      "text/plain": [
       "[1] TRUE"
      ]
     },
     "metadata": {},
     "output_type": "display_data"
    }
   ],
   "source": [
    "# Verify that annotations and counts are in the same order (DESeq2 requirement)\n",
    "\n",
    "# 7day timepoint\n",
    "all(rownames(retina_7day_radiation_colnames) == colnames(retina_7day_radiation_cts))\n",
    "all(rownames(retina_7day_unloaded_colnames) == colnames(retina_7day_unloaded_cts))\n",
    "all(rownames(retina_7day_combination_colnames) == colnames(retina_7day_combination_cts))\n",
    "\n",
    "# 1month timepoint\n",
    "all(rownames(retina_1month_radiation_colnames) == colnames(retina_1month_radiation_cts))\n",
    "all(rownames(retina_1month_unloaded_colnames) == colnames(retina_1month_unloaded_cts))\n",
    "all(rownames(retina_1month_combination_colnames) == colnames(retina_1month_combination_cts))\n",
    "\n",
    "# 1month timepoint\n",
    "all(rownames(retina_4month_radiation_colnames) == colnames(retina_4month_radiation_cts))\n",
    "all(rownames(retina_4month_unloaded_colnames) == colnames(retina_4month_unloaded_cts))\n",
    "all(rownames(retina_4month_combination_colnames) == colnames(retina_4month_combination_cts))"
   ]
  },
  {
   "cell_type": "code",
   "execution_count": 12,
   "metadata": {
    "collapsed": true
   },
   "outputs": [],
   "source": [
    "run_DESeq2 <- function(counts, labels, comparison, timepoint)\n",
    "{    \n",
    "    # Organize data into DESeq2 compatible object\n",
    "    if (comparison == \"radiation\" || comparison == \"combination\")\n",
    "    {\n",
    "        dds <- DESeqDataSetFromMatrix(countData = counts,\n",
    "                                  colData = labels,\n",
    "                                  design = ~ Radiation)\n",
    "    }\n",
    "    else if (comparison == \"unloaded\")\n",
    "    {\n",
    "        dds <- DESeqDataSetFromMatrix(countData = counts,\n",
    "                                  colData = labels,\n",
    "                                  design = ~ Unloading)            \n",
    "    }\n",
    "    else\n",
    "    {\n",
    "        print (\"Unrecognized Comparison Argument.\")\n",
    "        return ()\n",
    "    }\n",
    "    \n",
    "    # Prefilter to speed up computation and reduce size of dds\n",
    "    keep <- rowSums(counts(dds)) >= 10\n",
    "    dds <- dds[keep,]\n",
    "    \n",
    "    # Run DESeq2\n",
    "    dds <- DESeq(dds)\n",
    "    \n",
    "    # Save Results for Future Analysis\n",
    "    save_name = paste(\"../R_objects/\", \"retina_\", timepoint, \"_\", comparison, \"Vcontrol_dds.RData\", sep=\"\")\n",
    "    save(dds, file=save_name)\n",
    "    \n",
    "    # Return Results for Histogram Plotting\n",
    "    res <- results(dds)\n",
    "    return (res)\n",
    "}"
   ]
  },
  {
   "cell_type": "code",
   "execution_count": 13,
   "metadata": {},
   "outputs": [
    {
     "name": "stderr",
     "output_type": "stream",
     "text": [
      "Loading required package: S4Vectors\n",
      "Loading required package: stats4\n",
      "Loading required package: BiocGenerics\n",
      "Loading required package: parallel\n",
      "\n",
      "Attaching package: ‘BiocGenerics’\n",
      "\n",
      "The following objects are masked from ‘package:parallel’:\n",
      "\n",
      "    clusterApply, clusterApplyLB, clusterCall, clusterEvalQ,\n",
      "    clusterExport, clusterMap, parApply, parCapply, parLapply,\n",
      "    parLapplyLB, parRapply, parSapply, parSapplyLB\n",
      "\n",
      "The following objects are masked from ‘package:stats’:\n",
      "\n",
      "    IQR, mad, sd, var, xtabs\n",
      "\n",
      "The following objects are masked from ‘package:base’:\n",
      "\n",
      "    anyDuplicated, append, as.data.frame, basename, cbind, colMeans,\n",
      "    colnames, colSums, dirname, do.call, duplicated, eval, evalq,\n",
      "    Filter, Find, get, grep, grepl, intersect, is.unsorted, lapply,\n",
      "    lengths, Map, mapply, match, mget, order, paste, pmax, pmax.int,\n",
      "    pmin, pmin.int, Position, rank, rbind, Reduce, rowMeans, rownames,\n",
      "    rowSums, sapply, setdiff, sort, table, tapply, union, unique,\n",
      "    unsplit, which, which.max, which.min\n",
      "\n",
      "\n",
      "Attaching package: ‘S4Vectors’\n",
      "\n",
      "The following object is masked from ‘package:base’:\n",
      "\n",
      "    expand.grid\n",
      "\n",
      "Loading required package: IRanges\n",
      "Loading required package: GenomicRanges\n",
      "Loading required package: GenomeInfoDb\n",
      "Loading required package: SummarizedExperiment\n",
      "Loading required package: Biobase\n",
      "Welcome to Bioconductor\n",
      "\n",
      "    Vignettes contain introductory material; view with\n",
      "    'browseVignettes()'. To cite Bioconductor, see\n",
      "    'citation(\"Biobase\")', and for packages 'citation(\"pkgname\")'.\n",
      "\n",
      "Loading required package: DelayedArray\n",
      "Loading required package: matrixStats\n",
      "\n",
      "Attaching package: ‘matrixStats’\n",
      "\n",
      "The following objects are masked from ‘package:Biobase’:\n",
      "\n",
      "    anyMissing, rowMedians\n",
      "\n",
      "Loading required package: BiocParallel\n",
      "\n",
      "Attaching package: ‘DelayedArray’\n",
      "\n",
      "The following objects are masked from ‘package:matrixStats’:\n",
      "\n",
      "    colMaxs, colMins, colRanges, rowMaxs, rowMins, rowRanges\n",
      "\n",
      "The following objects are masked from ‘package:base’:\n",
      "\n",
      "    aperm, apply\n",
      "\n",
      "converting counts to integer mode\n",
      "estimating size factors\n",
      "estimating dispersions\n",
      "gene-wise dispersion estimates\n",
      "mean-dispersion relationship\n",
      "final dispersion estimates\n",
      "fitting model and testing\n",
      "converting counts to integer mode\n",
      "estimating size factors\n",
      "estimating dispersions\n",
      "gene-wise dispersion estimates\n",
      "mean-dispersion relationship\n",
      "final dispersion estimates\n",
      "fitting model and testing\n",
      "converting counts to integer mode\n",
      "estimating size factors\n",
      "estimating dispersions\n",
      "gene-wise dispersion estimates\n",
      "mean-dispersion relationship\n",
      "final dispersion estimates\n",
      "fitting model and testing\n",
      "converting counts to integer mode\n",
      "estimating size factors\n",
      "estimating dispersions\n",
      "gene-wise dispersion estimates\n",
      "mean-dispersion relationship\n",
      "final dispersion estimates\n",
      "fitting model and testing\n",
      "converting counts to integer mode\n",
      "estimating size factors\n",
      "estimating dispersions\n",
      "gene-wise dispersion estimates\n",
      "mean-dispersion relationship\n",
      "final dispersion estimates\n",
      "fitting model and testing\n",
      "converting counts to integer mode\n",
      "estimating size factors\n",
      "estimating dispersions\n",
      "gene-wise dispersion estimates\n",
      "mean-dispersion relationship\n",
      "final dispersion estimates\n",
      "fitting model and testing\n",
      "converting counts to integer mode\n",
      "estimating size factors\n",
      "estimating dispersions\n",
      "gene-wise dispersion estimates\n",
      "mean-dispersion relationship\n",
      "final dispersion estimates\n",
      "fitting model and testing\n",
      "converting counts to integer mode\n",
      "estimating size factors\n",
      "estimating dispersions\n",
      "gene-wise dispersion estimates\n",
      "mean-dispersion relationship\n",
      "final dispersion estimates\n",
      "fitting model and testing\n",
      "converting counts to integer mode\n",
      "estimating size factors\n",
      "estimating dispersions\n",
      "gene-wise dispersion estimates\n",
      "mean-dispersion relationship\n",
      "final dispersion estimates\n",
      "fitting model and testing\n"
     ]
    }
   ],
   "source": [
    "library(\"DESeq2\")\n",
    "\n",
    "res_7day_radiation = run_DESeq2(retina_7day_radiation_cts, retina_7day_radiation_colnames, \"radiation\", \"7day\")\n",
    "res_7day_unloaded = run_DESeq2(retina_7day_unloaded_cts, retina_7day_unloaded_colnames, \"unloaded\", \"7day\")\n",
    "res_7day_combination = run_DESeq2(retina_7day_combination_cts, retina_7day_combination_colnames, \"combination\", \"7day\")\n",
    "\n",
    "res_1month_radiation = run_DESeq2(retina_1month_radiation_cts, retina_1month_radiation_colnames, \"radiation\", \"1month\")\n",
    "res_1month_unloaded = run_DESeq2(retina_1month_unloaded_cts, retina_1month_unloaded_colnames, \"unloaded\", \"1month\")\n",
    "res_1month_combination = run_DESeq2(retina_1month_combination_cts, retina_1month_combination_colnames, \"combination\", \"1month\")\n",
    "\n",
    "res_4month_radiation = run_DESeq2(retina_4month_radiation_cts, retina_4month_radiation_colnames, \"radiation\", \"4month\")\n",
    "res_4month_unloaded = run_DESeq2(retina_4month_unloaded_cts, retina_4month_unloaded_colnames, \"unloaded\", \"4month\")\n",
    "res_4month_combination = run_DESeq2(retina_4month_combination_cts, retina_4month_combination_colnames, \"combination\", \"4month\")"
   ]
  },
  {
   "cell_type": "code",
   "execution_count": 1,
   "metadata": {},
   "outputs": [
    {
     "ename": "ERROR",
     "evalue": "Error in hist(res_7day_radiation$pvalue, main = \"Radiation vs Control\", : object 'res_7day_radiation' not found\n",
     "output_type": "error",
     "traceback": [
      "Error in hist(res_7day_radiation$pvalue, main = \"Radiation vs Control\", : object 'res_7day_radiation' not found\nTraceback:\n",
      "1. hist(res_7day_radiation$pvalue, main = \"Radiation vs Control\", \n .     xlab = \"P-value\", col = \"#1f77b4\")"
     ]
    }
   ],
   "source": [
    "# Plot P-value Distributions for Each Comparison\n",
    "par(mfrow=c(3,3))\n",
    "\n",
    "hist(res_7day_radiation$pvalue, main=\"Radiation vs Control\", xlab=\"P-value\", col=\"#1f77b4\")\n",
    "hist(res_7day_unloaded$pvalue, main=\"Unloaded vs Control\", xlab=\"P-value\", col=\"#1f77b4\")\n",
    "hist(res_7day_combination$pvalue, main=\"Combination vs Control\", xlab=\"P-value\", col=\"#1f77b4\")\n",
    "\n",
    "hist(res_1month_radiation$pvalue, main=\"Radiation vs Control\", xlab=\"P-value\", col=\"#1f77b4\")\n",
    "hist(res_1month_unloaded$pvalue, main=\"Unloaded vs Control\", xlab=\"P-value\", col=\"#1f77b4\")\n",
    "hist(res_1month_combination$pvalue, main=\"Combination vs Control\", xlab=\"P-value\", col=\"#1f77b4\")\n",
    "\n",
    "hist(res_4month_radiation$pvalue, main=\"Radiation vs Control\", xlab=\"P-value\", col=\"#1f77b4\")\n",
    "hist(res_4month_unloaded$pvalue, main=\"Unloaded vs Control\", xlab=\"P-value\", col=\"#1f77b4\")\n",
    "hist(res_4month_combination$pvalue, main=\"Combination vs Control\", xlab=\"P-value\", col=\"#1f77b4\")\n",
    "\n",
    "mtext(\"Timepoint: 7-Day\", side = 3, line = -1.5, outer = TRUE)\n",
    "mtext(\"Timepoint: 1-Month\", side = 3, line = -19, outer = TRUE)\n",
    "mtext(\"Timepoint: 4-Month\", side = 3, line = -36, outer = TRUE)\n"
   ]
  },
  {
   "cell_type": "code",
   "execution_count": null,
   "metadata": {
    "collapsed": true
   },
   "outputs": [],
   "source": []
  }
 ],
 "metadata": {
  "kernelspec": {
   "display_name": "R",
   "language": "R",
   "name": "ir"
  },
  "language_info": {
   "codemirror_mode": "r",
   "file_extension": ".r",
   "mimetype": "text/x-r-source",
   "name": "R",
   "pygments_lexer": "r",
   "version": "3.5.1"
  }
 },
 "nbformat": 4,
 "nbformat_minor": 2
}
