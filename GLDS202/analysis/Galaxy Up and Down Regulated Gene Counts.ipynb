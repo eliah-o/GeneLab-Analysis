{
 "cells": [
  {
   "cell_type": "markdown",
   "metadata": {},
   "source": [
    "# Question: What are the number of Upregulated and Downregulated Genes from the DESeq2 output from Galaxy?\n",
    "## Only Retina Data was run on Galaxy."
   ]
  },
  {
   "cell_type": "code",
   "execution_count": 12,
   "metadata": {
    "collapsed": true
   },
   "outputs": [],
   "source": [
    "def extract_significant_genes(filename, output_prefix, p_value_threshold, log2_fc_threshold):\n",
    "    \n",
    "    inputfile = open(filename, \"r\")\n",
    "    \n",
    "    upreg_genes = open(output_prefix + \"_upregulated.txt\", \"w\")\n",
    "    downreg_genes = open(output_prefix + \"_downregulated.txt\", \"w\")\n",
    "    all_significant_genes = open(output_prefix + \"_all.txt\", \"w\")\n",
    "    \n",
    "\n",
    "    for line in inputfile:\n",
    "        \n",
    "            \n",
    "        fields = line.split()\n",
    "        \n",
    "\n",
    "        gene_id = fields[0]\n",
    "        logFC = fields[2]\n",
    "        p_val_adj = fields[6]\n",
    "            \n",
    "        # Skip line if it doesn't have values\n",
    "        if logFC == \"NA\" or p_val_adj == \"NA\": \n",
    "            continue\n",
    "                \n",
    "        else: \n",
    "            logFC = float(logFC)\n",
    "            p_val_adj = float(p_val_adj)\n",
    "        \n",
    "        \n",
    "        if p_val_adj < p_value_threshold:\n",
    "            if logFC >= log2_fc_threshold:         \n",
    "                upreg_genes.write(gene_id + \"\\n\")\n",
    "                all_significant_genes.write(gene_id + \"\\n\")\n",
    "            elif logFC <= -log2_fc_threshold: \n",
    "                downreg_genes.write(gene_id + \"\\n\")\n",
    "                all_significant_genes.write(gene_id + \"\\n\")\n",
    "                \n",
    "    inputfile.close()\n",
    "    upreg_genes.close()\n",
    "    downreg_genes.close()\n",
    "    all_significant_genes.close()\n",
    "        "
   ]
  },
  {
   "cell_type": "code",
   "execution_count": 22,
   "metadata": {
    "collapsed": true
   },
   "outputs": [],
   "source": [
    "def quantify_results(glds):\n",
    "    \n",
    "    # File Names\n",
    "    all_genes_deseq2 = glds + \"_all.txt\"\n",
    "    upreg_genes_deseq2 = glds + \"_upregulated.txt\"\n",
    "    downreg_genes_deseq2 = glds + \"_downregulated.txt\"\n",
    "     \n",
    "    print \"~~~DESeq2 Results~~~\"\n",
    "    print \"Number of DE Genes: \"\n",
    "    !wc -l $all_genes_deseq2\n",
    "    print \"Number of Upregulated Genes: \"\n",
    "    !wc -l $upreg_genes_deseq2\n",
    "    print \"Number of Downregulated Genes: \"\n",
    "    !wc -l $downreg_genes_deseq2\n",
    "    print \"\"\n",
    "    "
   ]
  },
  {
   "cell_type": "code",
   "execution_count": 40,
   "metadata": {
    "collapsed": true
   },
   "outputs": [],
   "source": [
    "p_value = 0.05\n",
    "log_fc = 0"
   ]
  },
  {
   "cell_type": "markdown",
   "metadata": {},
   "source": [
    "## 7 days, Retina, Galaxy"
   ]
  },
  {
   "cell_type": "code",
   "execution_count": 41,
   "metadata": {},
   "outputs": [
    {
     "name": "stdout",
     "output_type": "stream",
     "text": [
      "~~~DESeq2 Results~~~\n",
      "Number of DE Genes: \n",
      "     769 7day_radiation_retina_galaxy_all.txt\n",
      "Number of Upregulated Genes: \n",
      "     332 7day_radiation_retina_galaxy_upregulated.txt\n",
      "Number of Downregulated Genes: \n",
      "     437 7day_radiation_retina_galaxy_downregulated.txt\n",
      "\n",
      "~~~DESeq2 Results~~~\n",
      "Number of DE Genes: \n",
      "     230 7day_unloaded_retina_galaxy_all.txt\n",
      "Number of Upregulated Genes: \n",
      "     112 7day_unloaded_retina_galaxy_upregulated.txt\n",
      "Number of Downregulated Genes: \n",
      "     118 7day_unloaded_retina_galaxy_downregulated.txt\n",
      "\n",
      "~~~DESeq2 Results~~~\n",
      "Number of DE Genes: \n",
      "       0 7day_combination_retina_galaxy_all.txt\n",
      "Number of Upregulated Genes: \n",
      "       0 7day_combination_retina_galaxy_upregulated.txt\n",
      "Number of Downregulated Genes: \n",
      "       0 7day_combination_retina_galaxy_downregulated.txt\n",
      "\n"
     ]
    }
   ],
   "source": [
    "prefix = \"7day_radiation_retina_galaxy\"\n",
    "inputfile = \"../../DESeq2_Output/Retina/7day/Galaxy22-[DESeq2_result_file_on_Radiation1_vs_Control1].tabular\"\n",
    "extract_significant_genes(inputfile, prefix, p_value, log_fc)\n",
    "quantify_results(prefix)\n",
    "\n",
    "prefix = \"7day_unloaded_retina_galaxy\"\n",
    "inputfile = \"../../DESeq2_Output/Retina/7day/Galaxy25-[DESeq2_result_file_on_Unloaded1_vs_Control1].tabular\"\n",
    "extract_significant_genes(inputfile, prefix, p_value, log_fc)\n",
    "quantify_results(prefix)\n",
    "\n",
    "prefix = \"7day_combination_retina_galaxy\"\n",
    "inputfile = \"../../DESeq2_Output/Retina/7day/Galaxy28-[DESeq2_result_file_on_Combination1_vs_Control1].tabular\"\n",
    "extract_significant_genes(inputfile, prefix, p_value, log_fc)\n",
    "quantify_results(prefix)"
   ]
  },
  {
   "cell_type": "markdown",
   "metadata": {},
   "source": [
    "## 1 Month, Retina, Galaxy"
   ]
  },
  {
   "cell_type": "code",
   "execution_count": 32,
   "metadata": {},
   "outputs": [
    {
     "name": "stdout",
     "output_type": "stream",
     "text": [
      "~~~DESeq2 Results~~~\n",
      "Number of DE Genes: \n",
      "      27 1month_radiation_retina_galaxy_all.txt\n",
      "Number of Upregulated Genes: \n",
      "      15 1month_radiation_retina_galaxy_upregulated.txt\n",
      "Number of Downregulated Genes: \n",
      "      12 1month_radiation_retina_galaxy_downregulated.txt\n",
      "\n",
      "~~~DESeq2 Results~~~\n",
      "Number of DE Genes: \n",
      "      13 1month_unloaded_retina_galaxy_all.txt\n",
      "Number of Upregulated Genes: \n",
      "       8 1month_unloaded_retina_galaxy_upregulated.txt\n",
      "Number of Downregulated Genes: \n",
      "       5 1month_unloaded_retina_galaxy_downregulated.txt\n",
      "\n",
      "~~~DESeq2 Results~~~\n",
      "Number of DE Genes: \n",
      "      70 1month_combination_retina_galaxy_all.txt\n",
      "Number of Upregulated Genes: \n",
      "      49 1month_combination_retina_galaxy_upregulated.txt\n",
      "Number of Downregulated Genes: \n",
      "      21 1month_combination_retina_galaxy_downregulated.txt\n",
      "\n"
     ]
    }
   ],
   "source": [
    "prefix = \"1month_radiation_retina_galaxy\"\n",
    "inputfile = \"../../DESeq2_Output/Retina/1month/Galaxy21-[DESeq2_result_file_on_Radiation2_vs_Control2].tabular\"\n",
    "extract_significant_genes(inputfile, prefix, p_value, log_fc)\n",
    "quantify_results(prefix)\n",
    "\n",
    "prefix = \"1month_unloaded_retina_galaxy\"\n",
    "inputfile = \"../../DESeq2_Output/Retina/1month/Galaxy24-[DESeq2_result_file_on_Unloaded2_vs_Control2].tabular\"\n",
    "extract_significant_genes(inputfile, prefix, p_value, log_fc)\n",
    "quantify_results(prefix)\n",
    "\n",
    "prefix = \"1month_combination_retina_galaxy\"\n",
    "inputfile = \"../../DESeq2_Output/Retina/1month/Galaxy27-[DESeq2_result_file_on_Combination2_vs_Control2].tabular\"\n",
    "extract_significant_genes(inputfile, prefix, p_value, log_fc)\n",
    "quantify_results(prefix)"
   ]
  },
  {
   "cell_type": "markdown",
   "metadata": {},
   "source": [
    "## 4 Month, Retina, Galaxy"
   ]
  },
  {
   "cell_type": "code",
   "execution_count": 33,
   "metadata": {},
   "outputs": [
    {
     "name": "stdout",
     "output_type": "stream",
     "text": [
      "~~~DESeq2 Results~~~\n",
      "Number of DE Genes: \n",
      "       3 4month_radiation_retina_galaxy_all.txt\n",
      "Number of Upregulated Genes: \n",
      "       1 4month_radiation_retina_galaxy_upregulated.txt\n",
      "Number of Downregulated Genes: \n",
      "       2 4month_radiation_retina_galaxy_downregulated.txt\n",
      "\n",
      "~~~DESeq2 Results~~~\n",
      "Number of DE Genes: \n",
      "       1 4month_unloaded_retina_galaxy_all.txt\n",
      "Number of Upregulated Genes: \n",
      "       0 4month_unloaded_retina_galaxy_upregulated.txt\n",
      "Number of Downregulated Genes: \n",
      "       1 4month_unloaded_retina_galaxy_downregulated.txt\n",
      "\n",
      "~~~DESeq2 Results~~~\n",
      "Number of DE Genes: \n",
      "       2 4month_combination_retina_galaxy_all.txt\n",
      "Number of Upregulated Genes: \n",
      "       0 4month_combination_retina_galaxy_upregulated.txt\n",
      "Number of Downregulated Genes: \n",
      "       2 4month_combination_retina_galaxy_downregulated.txt\n",
      "\n"
     ]
    }
   ],
   "source": [
    "prefix = \"4month_radiation_retina_galaxy\"\n",
    "inputfile = \"../../DESeq2_Output/Retina/4month/Galaxy19-[DESeq2_result_file_on_Radiation3_vs_Control3].tabular\"\n",
    "extract_significant_genes(inputfile, prefix, p_value, log_fc)\n",
    "quantify_results(prefix)\n",
    "\n",
    "prefix = \"4month_unloaded_retina_galaxy\"\n",
    "inputfile = \"../../DESeq2_Output/Retina/4month/Galaxy22-[DESeq2_result_file_on_Unloaded3_vs_Control3].tabular\"\n",
    "extract_significant_genes(inputfile, prefix, p_value, log_fc)\n",
    "quantify_results(prefix)\n",
    "\n",
    "prefix = \"4month_combination_retina_galaxy\"\n",
    "inputfile = \"../../DESeq2_Output/Retina/4month/Galaxy25-[DESeq2_result_file_on_Combination3_vs_Control3].tabular\"\n",
    "extract_significant_genes(inputfile, prefix, p_value, log_fc)\n",
    "quantify_results(prefix)"
   ]
  },
  {
   "cell_type": "markdown",
   "metadata": {},
   "source": [
    "### Including a Log FC requirement eliminates almost all genes from all comparisons. LFC of 2, 1, and 0.5 tested."
   ]
  },
  {
   "cell_type": "code",
   "execution_count": null,
   "metadata": {
    "collapsed": true
   },
   "outputs": [],
   "source": []
  }
 ],
 "metadata": {
  "kernelspec": {
   "display_name": "Python 2",
   "language": "python",
   "name": "python2"
  },
  "language_info": {
   "codemirror_mode": {
    "name": "ipython",
    "version": 2
   },
   "file_extension": ".py",
   "mimetype": "text/x-python",
   "name": "python",
   "nbconvert_exporter": "python",
   "pygments_lexer": "ipython2",
   "version": "2.7.13"
  }
 },
 "nbformat": 4,
 "nbformat_minor": 2
}
