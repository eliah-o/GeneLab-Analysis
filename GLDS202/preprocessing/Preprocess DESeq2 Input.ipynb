{
 "cells": [
  {
   "cell_type": "markdown",
   "metadata": {},
   "source": [
    "## Create Individual Count Files For Galaxy DESeq2 Input"
   ]
  },
  {
   "cell_type": "code",
   "execution_count": 19,
   "metadata": {},
   "outputs": [
    {
     "name": "stdout",
     "output_type": "stream",
     "text": [
      "../GLDS-202_Unnormalized_Counts.txt\r\n"
     ]
    }
   ],
   "source": [
    "# Confirm file location\n",
    "!ls ../GLDS-202_Unnormalized_Counts.txt"
   ]
  },
  {
   "cell_type": "code",
   "execution_count": 20,
   "metadata": {
    "collapsed": true
   },
   "outputs": [],
   "source": [
    "# Create Output Directory\n",
    "!mkdir -p ../IndividualCounts"
   ]
  },
  {
   "cell_type": "code",
   "execution_count": 21,
   "metadata": {
    "collapsed": true
   },
   "outputs": [],
   "source": [
    "# Extract Gene ID Column\n",
    "!cut -f 1 ../GLDS-202_Unnormalized_Counts.txt > GeneID_Column.txt\n",
    "\n",
    "# Manually added \"GeneID\" Column Header"
   ]
  },
  {
   "cell_type": "code",
   "execution_count": 22,
   "metadata": {},
   "outputs": [
    {
     "name": "stdout",
     "output_type": "stream",
     "text": [
      "\r\n",
      "ENSMUSG00000000001.4\r\n",
      "ENSMUSG00000000003.15\r\n",
      "ENSMUSG00000000028.15\r\n",
      "ENSMUSG00000000031.16\r\n",
      "ENSMUSG00000000037.16\r\n",
      "ENSMUSG00000000049.11\r\n",
      "ENSMUSG00000000056.7\r\n",
      "ENSMUSG00000000058.6\r\n",
      "ENSMUSG00000000078.7\r\n"
     ]
    }
   ],
   "source": [
    "# Confirm Extraction\n",
    "!head GeneID_Column.txt"
   ]
  },
  {
   "cell_type": "code",
   "execution_count": 23,
   "metadata": {
    "collapsed": true
   },
   "outputs": [],
   "source": [
    "# Split columns in counts file\n",
    "# Output will be the gene id column and a single count column\n",
    "# Perform for each count column\n",
    "\n",
    "filename = \"../GLDS-202_Unnormalized_Counts.txt\"\n",
    "inputfile = open(filename, \"r\")\n",
    "\n",
    "# Get column IDs to name new files\n",
    "num_samples = 0\n",
    "samples = []\n",
    "for line in inputfile: \n",
    "    \n",
    "    fields = line.strip().split()\n",
    "    num_samples = len(fields)\n",
    "    samples = fields\n",
    "    break\n",
    "\n",
    "i = 2\n",
    "while i < num_samples+2: \n",
    "\n",
    "    !cut -f $i $filename > tempfile\n",
    "    \n",
    "    outputfile = \"../IndividualCounts/\" + fields[i-2]\n",
    "    \n",
    "    !paste GeneID_Column.txt tempfile > $outputfile\n",
    "    \n",
    "    i += 1"
   ]
  },
  {
   "cell_type": "code",
   "execution_count": 24,
   "metadata": {
    "collapsed": true
   },
   "outputs": [],
   "source": [
    "# DESeq2 needs integers. There are decimals in the read counts. \n",
    "# Round to the nearest integer. \n",
    "\n",
    "import glob\n",
    "all_files = glob.glob(\"../IndividualCounts/CFG*\")\n",
    "\n",
    "for filex in all_files:\n",
    "    \n",
    "    inputfile = open(filex, \"r\")\n",
    "    outputfile = open(filex + \".rounded\", \"w\")\n",
    " \n",
    "    first_line = True\n",
    "    for line in inputfile:\n",
    "        \n",
    "        # Skip Header Line\n",
    "        if first_line == True:\n",
    "            first_line = False\n",
    "            outputfile.write(\"GeneID\" + \"\\t\" + filex.split(\"IndividualCounts/\")[1] + \"\\n\")\n",
    "            continue\n",
    "        \n",
    "        fields = line.strip().split()\n",
    "        \n",
    "        gene_id = fields[0]\n",
    "        read_count = int(round(float(fields[1])))\n",
    "        \n",
    "        outputfile.write(gene_id + \"\\t\" + str(read_count) + \"\\n\")\n",
    "    \n",
    "    inputfile.close()\n",
    "    outputfile.close()\n",
    "    "
   ]
  },
  {
   "cell_type": "code",
   "execution_count": 25,
   "metadata": {
    "collapsed": true
   },
   "outputs": [],
   "source": [
    "# Create a directory for new files\n",
    "!mkdir -p ../IndividualCounts/DESeq2_input"
   ]
  },
  {
   "cell_type": "code",
   "execution_count": 26,
   "metadata": {
    "collapsed": true
   },
   "outputs": [],
   "source": [
    "# Move files into that directory\n",
    "!mv ../IndividualCounts/*.rounded ../IndividualCounts/DESeq2_input/"
   ]
  },
  {
   "cell_type": "code",
   "execution_count": 27,
   "metadata": {
    "collapsed": true
   },
   "outputs": [],
   "source": [
    "# Rename files with grouping info\n",
    "\n",
    "inputfile = open(\"../GLDS-202_203/GLDS-202_SampleTable.csv\", \"r\")\n",
    "\n",
    "header = True\n",
    "for line in inputfile: \n",
    "    \n",
    "    # Skip Header Line\n",
    "    if header == True: \n",
    "        header = False\n",
    "        continue\n",
    "    \n",
    "    fields = line.strip().split(\",\")\n",
    "    \n",
    "    sample_name = fields[0]\n",
    "    radiation = fields[1]\n",
    "    unloaded = fields[2]\n",
    "    tissue = fields[3]\n",
    "    timepoint = fields[4]\n",
    "    \n",
    "    if tissue == \"Retina\":\n",
    "        \n",
    "        condition = \"\"\n",
    "        if radiation == \"0.4gray\" and unloaded == \"Unloaded\":\n",
    "            condition = \"Combination.\"\n",
    "        elif radiation == \"0.4gray\":\n",
    "            condition = \"Radiation.\"\n",
    "        elif unloaded == \"Unloaded\": \n",
    "            condition = \"Unloaded.\"\n",
    "        else:\n",
    "            condition = \"Control.\"\n",
    "        \n",
    "        duration=\"\"\n",
    "        if timepoint == \"7day\":\n",
    "            duration = \"7days.\"\n",
    "        elif timepoint == \"1month\":\n",
    "            duration = \"1month.\"\n",
    "        elif timepoint == \"4month\":\n",
    "            duration = \"4month.\"\n",
    "        \n",
    "        filepath = \"../IndividualCounts/DESeq2_input/\"\n",
    "        old_filename = sample_name + \".rounded\"\n",
    "        new_filename = condition + duration + sample_name\n",
    "        \n",
    "        !mv ../IndividualCounts/DESeq2_input/$old_filename ../IndividualCounts/DESeq2_input/$new_filename\n",
    "        \n",
    "inputfile.close()    \n",
    "    "
   ]
  },
  {
   "cell_type": "code",
   "execution_count": null,
   "metadata": {
    "collapsed": true
   },
   "outputs": [],
   "source": []
  }
 ],
 "metadata": {
  "kernelspec": {
   "display_name": "Python 2",
   "language": "python",
   "name": "python2"
  },
  "language_info": {
   "codemirror_mode": {
    "name": "ipython",
    "version": 2
   },
   "file_extension": ".py",
   "mimetype": "text/x-python",
   "name": "python",
   "nbconvert_exporter": "python",
   "pygments_lexer": "ipython2",
   "version": "2.7.13"
  }
 },
 "nbformat": 4,
 "nbformat_minor": 2
}
