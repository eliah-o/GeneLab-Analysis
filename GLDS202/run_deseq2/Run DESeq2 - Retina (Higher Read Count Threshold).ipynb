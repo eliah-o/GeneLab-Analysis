{
 "cells": [
  {
   "cell_type": "markdown",
   "metadata": {},
   "source": [
    "## This notebook performs the same analysis as \"Run DESeq2 - Retina\" but filters out genes based on a higher gene count threshold.\n"
   ]
  },
  {
   "cell_type": "code",
   "execution_count": 1,
   "metadata": {},
   "outputs": [
    {
     "data": {
      "text/html": [
       "TRUE"
      ],
      "text/latex": [
       "TRUE"
      ],
      "text/markdown": [
       "TRUE"
      ],
      "text/plain": [
       "[1] TRUE"
      ]
     },
     "metadata": {},
     "output_type": "display_data"
    }
   ],
   "source": [
    "# Load Unnormalized Read Counts\n",
    "unnormalized_counts = \"../GLDS-202_Unnormalized_Counts.txt\"\n",
    "cts <- as.matrix(read.table(unnormalized_counts, sep=\"\\t\", row.names=\"GeneID\", header=TRUE))\n",
    "\n",
    "# Load Annotations\n",
    "annotations = \"../GLDS-202_203/GLDS-202_SampleTable.csv\"\n",
    "coldata <- read.csv(annotations, row.names=1)\n",
    "\n",
    "# Retrieve only Retina data\n",
    "coldata = coldata[coldata$Material %in% \"Retina\", ]\n",
    "\n",
    "# Retina Counts Only\n",
    "retina_cts = cts[ , (colnames(cts) %in% c(rownames(coldata)))]\n",
    "\n",
    "# DESeq2 requires integers\n",
    "retina_cts = round(retina_cts)\n",
    "\n",
    "# Confirm that coldata and retina counts are ordered the same\n",
    "all(rownames(coldata) == colnames(retina_cts))"
   ]
  },
  {
   "cell_type": "code",
   "execution_count": 2,
   "metadata": {
    "collapsed": true
   },
   "outputs": [],
   "source": [
    "##### Filter colnames for all comparisons #####\n",
    "\n",
    "### Time = 7 Days ###\n",
    "timepoint = \"7day\"\n",
    "\n",
    "# Condition = Radiation and Control\n",
    "retina_7day_radiation_colnames =  subset(coldata, \n",
    "                                        (Time == timepoint & Radiation == \"0.4gray\" & Unloading == \"Loaded\")\n",
    "                                        | (Time == timepoint & Radiation == \"0gray\" & Unloading == \"Loaded\"))\n",
    "\n",
    "# Condition = Unloaded and Control\n",
    "retina_7day_unloaded_colnames =  subset(coldata, \n",
    "                                        (Time == timepoint & Radiation == \"0gray\" & Unloading == \"Unloaded\")\n",
    "                                        | (Time == timepoint & Radiation == \"0gray\" & Unloading == \"Loaded\"))\n",
    "\n",
    "# Condition = Combination and Control\n",
    "retina_7day_combination_colnames =  subset(coldata,\n",
    "                                            (Time == timepoint & Radiation == \"0.4gray\" & Unloading == \"Unloaded\")\n",
    "                                            | (Time == timepoint & Radiation == \"0gray\" & Unloading == \"Loaded\"))\n",
    "\n",
    "\n",
    "\n",
    "### Time = 1 Month ###\n",
    "timepoint = \"1month\"\n",
    "\n",
    "# Condition = Radiation and Control\n",
    "retina_1month_radiation_colnames =  subset(coldata, \n",
    "                                        (Time == timepoint & Radiation == \"0.4gray\" & Unloading == \"Loaded\")\n",
    "                                        | (Time == timepoint & Radiation == \"0gray\" & Unloading == \"Loaded\"))\n",
    "\n",
    "# Condition = Unloaded and Control\n",
    "retina_1month_unloaded_colnames =  subset(coldata, \n",
    "                                        (Time == timepoint & Radiation == \"0gray\" & Unloading == \"Unloaded\")\n",
    "                                        | (Time == timepoint & Radiation == \"0gray\" & Unloading == \"Loaded\"))\n",
    "\n",
    "# Condition = Combination and Control\n",
    "retina_1month_combination_colnames =  subset(coldata,\n",
    "                                            (Time == timepoint & Radiation == \"0.4gray\" & Unloading == \"Unloaded\")\n",
    "                                            | (Time == timepoint & Radiation == \"0gray\" & Unloading == \"Loaded\"))\n",
    "\n",
    "\n",
    "### Time = 4 Month ###\n",
    "timepoint = \"4month\"\n",
    "\n",
    "# Condition = Radiation and Control\n",
    "retina_4month_radiation_colnames =  subset(coldata, \n",
    "                                        (Time == timepoint & Radiation == \"0.4gray\" & Unloading == \"Loaded\")\n",
    "                                        | (Time == timepoint & Radiation == \"0gray\" & Unloading == \"Loaded\"))\n",
    "\n",
    "# Condition = Unloaded and Control\n",
    "retina_4month_unloaded_colnames =  subset(coldata, \n",
    "                                        (Time == timepoint & Radiation == \"0gray\" & Unloading == \"Unloaded\")\n",
    "                                        | (Time == timepoint & Radiation == \"0gray\" & Unloading == \"Loaded\"))\n",
    "\n",
    "# Condition = Combination and Control\n",
    "retina_4month_combination_colnames =  subset(coldata,\n",
    "                                            (Time == timepoint & Radiation == \"0.4gray\" & Unloading == \"Unloaded\")\n",
    "                                            | (Time == timepoint & Radiation == \"0gray\" & Unloading == \"Loaded\"))"
   ]
  },
  {
   "cell_type": "code",
   "execution_count": 3,
   "metadata": {
    "collapsed": true
   },
   "outputs": [],
   "source": [
    "##### Filter counts for all comparisons #####\n",
    "\n",
    "retina_7day_radiation_cts = retina_cts[ , (colnames(retina_cts) %in% c(rownames(retina_7day_radiation_colnames)))]\n",
    "retina_7day_unloaded_cts = retina_cts[ , (colnames(retina_cts) %in% c(rownames(retina_7day_unloaded_colnames)))]\n",
    "retina_7day_combination_cts = retina_cts[ , (colnames(retina_cts) %in% c(rownames(retina_7day_combination_colnames)))]\n",
    "\n",
    "retina_1month_radiation_cts = retina_cts[ , (colnames(retina_cts) %in% c(rownames(retina_1month_radiation_colnames)))]\n",
    "retina_1month_unloaded_cts = retina_cts[ , (colnames(retina_cts) %in% c(rownames(retina_1month_unloaded_colnames)))]\n",
    "retina_1month_combination_cts = retina_cts[ , (colnames(retina_cts) %in% c(rownames(retina_1month_combination_colnames)))]\n",
    "\n",
    "retina_4month_radiation_cts = retina_cts[ , (colnames(retina_cts) %in% c(rownames(retina_4month_radiation_colnames)))]\n",
    "retina_4month_unloaded_cts = retina_cts[ , (colnames(retina_cts) %in% c(rownames(retina_4month_unloaded_colnames)))]\n",
    "retina_4month_combination_cts = retina_cts[ , (colnames(retina_cts) %in% c(rownames(retina_4month_combination_colnames)))]"
   ]
  },
  {
   "cell_type": "code",
   "execution_count": 4,
   "metadata": {},
   "outputs": [
    {
     "data": {
      "text/html": [
       "TRUE"
      ],
      "text/latex": [
       "TRUE"
      ],
      "text/markdown": [
       "TRUE"
      ],
      "text/plain": [
       "[1] TRUE"
      ]
     },
     "metadata": {},
     "output_type": "display_data"
    },
    {
     "data": {
      "text/html": [
       "TRUE"
      ],
      "text/latex": [
       "TRUE"
      ],
      "text/markdown": [
       "TRUE"
      ],
      "text/plain": [
       "[1] TRUE"
      ]
     },
     "metadata": {},
     "output_type": "display_data"
    },
    {
     "data": {
      "text/html": [
       "TRUE"
      ],
      "text/latex": [
       "TRUE"
      ],
      "text/markdown": [
       "TRUE"
      ],
      "text/plain": [
       "[1] TRUE"
      ]
     },
     "metadata": {},
     "output_type": "display_data"
    },
    {
     "data": {
      "text/html": [
       "TRUE"
      ],
      "text/latex": [
       "TRUE"
      ],
      "text/markdown": [
       "TRUE"
      ],
      "text/plain": [
       "[1] TRUE"
      ]
     },
     "metadata": {},
     "output_type": "display_data"
    },
    {
     "data": {
      "text/html": [
       "TRUE"
      ],
      "text/latex": [
       "TRUE"
      ],
      "text/markdown": [
       "TRUE"
      ],
      "text/plain": [
       "[1] TRUE"
      ]
     },
     "metadata": {},
     "output_type": "display_data"
    },
    {
     "data": {
      "text/html": [
       "TRUE"
      ],
      "text/latex": [
       "TRUE"
      ],
      "text/markdown": [
       "TRUE"
      ],
      "text/plain": [
       "[1] TRUE"
      ]
     },
     "metadata": {},
     "output_type": "display_data"
    },
    {
     "data": {
      "text/html": [
       "TRUE"
      ],
      "text/latex": [
       "TRUE"
      ],
      "text/markdown": [
       "TRUE"
      ],
      "text/plain": [
       "[1] TRUE"
      ]
     },
     "metadata": {},
     "output_type": "display_data"
    },
    {
     "data": {
      "text/html": [
       "TRUE"
      ],
      "text/latex": [
       "TRUE"
      ],
      "text/markdown": [
       "TRUE"
      ],
      "text/plain": [
       "[1] TRUE"
      ]
     },
     "metadata": {},
     "output_type": "display_data"
    },
    {
     "data": {
      "text/html": [
       "TRUE"
      ],
      "text/latex": [
       "TRUE"
      ],
      "text/markdown": [
       "TRUE"
      ],
      "text/plain": [
       "[1] TRUE"
      ]
     },
     "metadata": {},
     "output_type": "display_data"
    }
   ],
   "source": [
    "# Verify that annotations and counts are in the same order (DESeq2 requirement)\n",
    "\n",
    "# 7day timepoint\n",
    "all(rownames(retina_7day_radiation_colnames) == colnames(retina_7day_radiation_cts))\n",
    "all(rownames(retina_7day_unloaded_colnames) == colnames(retina_7day_unloaded_cts))\n",
    "all(rownames(retina_7day_combination_colnames) == colnames(retina_7day_combination_cts))\n",
    "\n",
    "# 1month timepoint\n",
    "all(rownames(retina_1month_radiation_colnames) == colnames(retina_1month_radiation_cts))\n",
    "all(rownames(retina_1month_unloaded_colnames) == colnames(retina_1month_unloaded_cts))\n",
    "all(rownames(retina_1month_combination_colnames) == colnames(retina_1month_combination_cts))\n",
    "\n",
    "# 1month timepoint\n",
    "all(rownames(retina_4month_radiation_colnames) == colnames(retina_4month_radiation_cts))\n",
    "all(rownames(retina_4month_unloaded_colnames) == colnames(retina_4month_unloaded_cts))\n",
    "all(rownames(retina_4month_combination_colnames) == colnames(retina_4month_combination_cts))"
   ]
  },
  {
   "cell_type": "code",
   "execution_count": 5,
   "metadata": {
    "collapsed": true
   },
   "outputs": [],
   "source": [
    "run_DESeq2 <- function(counts, labels, comparison, timepoint)\n",
    "{    \n",
    "    # Organize data into DESeq2 compatible object\n",
    "    if (comparison == \"radiation\" || comparison == \"combination\")\n",
    "    {\n",
    "        dds <- DESeqDataSetFromMatrix(countData = counts,\n",
    "                                  colData = labels,\n",
    "                                  design = ~ Radiation)\n",
    "    }\n",
    "    else if (comparison == \"unloaded\")\n",
    "    {\n",
    "        dds <- DESeqDataSetFromMatrix(countData = counts,\n",
    "                                  colData = labels,\n",
    "                                  design = ~ Unloading)            \n",
    "    }\n",
    "    else\n",
    "    {\n",
    "        print (\"Unrecognized Comparison Argument.\")\n",
    "        return ()\n",
    "    }\n",
    "    \n",
    "    # Prefilter to speed up computation and reduce size of dds\n",
    "    keep <- rowSums(counts(dds)) >= 3000\n",
    "    dds <- dds[keep,]\n",
    "    \n",
    "    # Run DESeq2\n",
    "    dds <- DESeq(dds)\n",
    "    \n",
    "    # Return Results for Histogram Plotting\n",
    "    res <- results(dds)\n",
    "    return (res)\n",
    "}"
   ]
  },
  {
   "cell_type": "code",
   "execution_count": 6,
   "metadata": {},
   "outputs": [
    {
     "name": "stderr",
     "output_type": "stream",
     "text": [
      "Loading required package: S4Vectors\n",
      "Loading required package: stats4\n",
      "Loading required package: BiocGenerics\n",
      "Loading required package: parallel\n",
      "\n",
      "Attaching package: ‘BiocGenerics’\n",
      "\n",
      "The following objects are masked from ‘package:parallel’:\n",
      "\n",
      "    clusterApply, clusterApplyLB, clusterCall, clusterEvalQ,\n",
      "    clusterExport, clusterMap, parApply, parCapply, parLapply,\n",
      "    parLapplyLB, parRapply, parSapply, parSapplyLB\n",
      "\n",
      "The following objects are masked from ‘package:stats’:\n",
      "\n",
      "    IQR, mad, sd, var, xtabs\n",
      "\n",
      "The following objects are masked from ‘package:base’:\n",
      "\n",
      "    anyDuplicated, append, as.data.frame, cbind, colMeans, colnames,\n",
      "    colSums, do.call, duplicated, eval, evalq, Filter, Find, get, grep,\n",
      "    grepl, intersect, is.unsorted, lapply, lengths, Map, mapply, match,\n",
      "    mget, order, paste, pmax, pmax.int, pmin, pmin.int, Position, rank,\n",
      "    rbind, Reduce, rowMeans, rownames, rowSums, sapply, setdiff, sort,\n",
      "    table, tapply, union, unique, unsplit, which, which.max, which.min\n",
      "\n",
      "\n",
      "Attaching package: ‘S4Vectors’\n",
      "\n",
      "The following object is masked from ‘package:base’:\n",
      "\n",
      "    expand.grid\n",
      "\n",
      "Loading required package: IRanges\n",
      "Loading required package: GenomicRanges\n",
      "Loading required package: GenomeInfoDb\n",
      "Loading required package: SummarizedExperiment\n",
      "Loading required package: Biobase\n",
      "Welcome to Bioconductor\n",
      "\n",
      "    Vignettes contain introductory material; view with\n",
      "    'browseVignettes()'. To cite Bioconductor, see\n",
      "    'citation(\"Biobase\")', and for packages 'citation(\"pkgname\")'.\n",
      "\n",
      "Loading required package: DelayedArray\n",
      "Loading required package: matrixStats\n",
      "\n",
      "Attaching package: ‘matrixStats’\n",
      "\n",
      "The following objects are masked from ‘package:Biobase’:\n",
      "\n",
      "    anyMissing, rowMedians\n",
      "\n",
      "\n",
      "Attaching package: ‘DelayedArray’\n",
      "\n",
      "The following objects are masked from ‘package:matrixStats’:\n",
      "\n",
      "    colMaxs, colMins, colRanges, rowMaxs, rowMins, rowRanges\n",
      "\n",
      "The following object is masked from ‘package:base’:\n",
      "\n",
      "    apply\n",
      "\n",
      "converting counts to integer mode\n",
      "estimating size factors\n",
      "estimating dispersions\n",
      "gene-wise dispersion estimates\n",
      "mean-dispersion relationship\n",
      "final dispersion estimates\n",
      "fitting model and testing\n",
      "converting counts to integer mode\n",
      "estimating size factors\n",
      "estimating dispersions\n",
      "gene-wise dispersion estimates\n",
      "mean-dispersion relationship\n",
      "final dispersion estimates\n",
      "fitting model and testing\n",
      "converting counts to integer mode\n",
      "estimating size factors\n",
      "estimating dispersions\n",
      "gene-wise dispersion estimates\n",
      "mean-dispersion relationship\n",
      "final dispersion estimates\n",
      "fitting model and testing\n",
      "converting counts to integer mode\n",
      "estimating size factors\n",
      "estimating dispersions\n",
      "gene-wise dispersion estimates\n",
      "mean-dispersion relationship\n",
      "final dispersion estimates\n",
      "fitting model and testing\n",
      "converting counts to integer mode\n",
      "estimating size factors\n",
      "estimating dispersions\n",
      "gene-wise dispersion estimates\n",
      "mean-dispersion relationship\n",
      "final dispersion estimates\n",
      "fitting model and testing\n",
      "converting counts to integer mode\n",
      "estimating size factors\n",
      "estimating dispersions\n",
      "gene-wise dispersion estimates\n",
      "mean-dispersion relationship\n",
      "final dispersion estimates\n",
      "fitting model and testing\n",
      "converting counts to integer mode\n",
      "estimating size factors\n",
      "estimating dispersions\n",
      "gene-wise dispersion estimates\n",
      "mean-dispersion relationship\n",
      "final dispersion estimates\n",
      "fitting model and testing\n",
      "converting counts to integer mode\n",
      "estimating size factors\n",
      "estimating dispersions\n",
      "gene-wise dispersion estimates\n",
      "mean-dispersion relationship\n",
      "final dispersion estimates\n",
      "fitting model and testing\n",
      "converting counts to integer mode\n",
      "estimating size factors\n",
      "estimating dispersions\n",
      "gene-wise dispersion estimates\n",
      "mean-dispersion relationship\n",
      "final dispersion estimates\n",
      "fitting model and testing\n"
     ]
    }
   ],
   "source": [
    "library(\"DESeq2\")\n",
    "\n",
    "res_7day_radiation = run_DESeq2(retina_7day_radiation_cts, retina_7day_radiation_colnames, \"radiation\", \"7day\")\n",
    "res_7day_unloaded = run_DESeq2(retina_7day_unloaded_cts, retina_7day_unloaded_colnames, \"unloaded\", \"7day\")\n",
    "res_7day_combination = run_DESeq2(retina_7day_combination_cts, retina_7day_combination_colnames, \"combination\", \"7day\")\n",
    "\n",
    "res_1month_radiation = run_DESeq2(retina_1month_radiation_cts, retina_1month_radiation_colnames, \"radiation\", \"1month\")\n",
    "res_1month_unloaded = run_DESeq2(retina_1month_unloaded_cts, retina_1month_unloaded_colnames, \"unloaded\", \"1month\")\n",
    "res_1month_combination = run_DESeq2(retina_1month_combination_cts, retina_1month_combination_colnames, \"combination\", \"1month\")\n",
    "\n",
    "res_4month_radiation = run_DESeq2(retina_4month_radiation_cts, retina_4month_radiation_colnames, \"radiation\", \"4month\")\n",
    "res_4month_unloaded = run_DESeq2(retina_4month_unloaded_cts, retina_4month_unloaded_colnames, \"unloaded\", \"4month\")\n",
    "res_4month_combination = run_DESeq2(retina_4month_combination_cts, retina_4month_combination_colnames, \"combination\", \"4month\")"
   ]
  },
  {
   "cell_type": "code",
   "execution_count": 7,
   "metadata": {},
   "outputs": [
    {
     "data": {
      "image/png": "[encoded data removed]",
      "text/plain": [
       "Plot with title “Combination vs Control”"
      ]
     },
     "metadata": {},
     "output_type": "display_data"
    }
   ],
   "source": [
    "# Plot P-value Distributions for Each Comparison\n",
    "par(mfrow=c(3,3))\n",
    "\n",
    "hist(res_7day_radiation$pvalue, main=\"Radiation vs Control\", xlab=\"P-value\")\n",
    "hist(res_7day_unloaded$pvalue, main=\"Unloaded vs Control\", xlab=\"P-value\")\n",
    "hist(res_7day_combination$pvalue, main=\"Combination vs Control\", xlab=\"P-value\")\n",
    "\n",
    "hist(res_1month_radiation$pvalue, main=\"Radiation vs Control\", xlab=\"P-value\")\n",
    "hist(res_1month_unloaded$pvalue, main=\"Unloaded vs Control\", xlab=\"P-value\")\n",
    "hist(res_1month_combination$pvalue, main=\"Combination vs Control\", xlab=\"P-value\")\n",
    "\n",
    "hist(res_4month_radiation$pvalue, main=\"Radiation vs Control\", xlab=\"P-value\")\n",
    "hist(res_4month_unloaded$pvalue, main=\"Unloaded vs Control\", xlab=\"P-value\")\n",
    "hist(res_4month_combination$pvalue, main=\"Combination vs Control\", xlab=\"P-value\")\n",
    "\n",
    "mtext(\"Timepoint: 7-Day\", side = 3, line = -1.5, outer = TRUE)\n",
    "mtext(\"Timepoint: 1-Month\", side = 3, line = -19, outer = TRUE)\n",
    "mtext(\"Timepoint: 4-Month\", side = 3, line = -36, outer = TRUE)\n"
   ]
  },
  {
   "cell_type": "markdown",
   "metadata": {},
   "source": [
    "## The higher filtering threshold redistributed the '7-day Combination vs Control' sample, but did not redistribute the 4-month samples. "
   ]
  },
  {
   "cell_type": "code",
   "execution_count": null,
   "metadata": {
    "collapsed": true
   },
   "outputs": [],
   "source": []
  }
 ],
 "metadata": {
  "kernelspec": {
   "display_name": "R",
   "language": "R",
   "name": "ir"
  },
  "language_info": {
   "codemirror_mode": "r",
   "file_extension": ".r",
   "mimetype": "text/x-r-source",
   "name": "R",
   "pygments_lexer": "r",
   "version": "3.4.3"
  }
 },
 "nbformat": 4,
 "nbformat_minor": 2
}
